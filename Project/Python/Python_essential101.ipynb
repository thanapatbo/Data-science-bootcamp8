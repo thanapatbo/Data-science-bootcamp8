{
  "nbformat": 4,
  "nbformat_minor": 0,
  "metadata": {
    "colab": {
      "provenance": [],
      "authorship_tag": "ABX9TyP7SLu6SSFrNLnHas43kiO4",
      "include_colab_link": true
    },
    "kernelspec": {
      "name": "python3",
      "display_name": "Python 3"
    },
    "language_info": {
      "name": "python"
    }
  },
  "cells": [
    {
      "cell_type": "markdown",
      "metadata": {
        "id": "view-in-github",
        "colab_type": "text"
      },
      "source": [
        "<a href=\"https://colab.research.google.com/github/thanapatbo/Data-science-bootcamp8/blob/main/Python_essential101.ipynb\" target=\"_parent\"><img src=\"https://colab.research.google.com/assets/colab-badge.svg\" alt=\"Open In Colab\"/></a>"
      ]
    },
    {
      "cell_type": "markdown",
      "source": [
        "# **Python Programming 101**\n",
        "\n",
        "- variable\n",
        "- data types\n",
        "- data structures\n",
        "- function\n",
        "- control flow"
      ],
      "metadata": {
        "id": "D84_umcBNPSS"
      }
    },
    {
      "cell_type": "code",
      "execution_count": null,
      "metadata": {
        "colab": {
          "base_uri": "https://localhost:8080/"
        },
        "id": "HvLjKOLfNG6m",
        "outputId": "59072161-5dd1-4791-87b7-a1e121fe9cee"
      },
      "outputs": [
        {
          "output_type": "stream",
          "name": "stdout",
          "text": [
            "2\n",
            "4\n",
            "1.6666666666666667\n",
            "1\n",
            "9\n"
          ]
        }
      ],
      "source": [
        "# basic expression / calculation\n",
        "\n",
        "print(1 + 1)\n",
        "print(2*2)\n",
        "print(5/3) #1.66\n",
        "print(5//3) #1\n",
        "print(3**2)"
      ]
    },
    {
      "cell_type": "code",
      "source": [
        "# compare values\n",
        "print(1+1 == 2)\n",
        "print(1+1 != 2)"
      ],
      "metadata": {
        "colab": {
          "base_uri": "https://localhost:8080/"
        },
        "id": "6ZVKAlIYOPR6",
        "outputId": "dc29ff94-85c9-4b15-d8be-18ec9e6de128"
      },
      "execution_count": null,
      "outputs": [
        {
          "output_type": "stream",
          "name": "stdout",
          "text": [
            "True\n",
            "False\n"
          ]
        }
      ]
    },
    {
      "cell_type": "code",
      "source": [
        "## variables\n",
        "\n",
        "my_mame = \"Turbo\"\n",
        "\n",
        "income = 50000\n",
        "expense = 36000\n",
        "saving = income - expense\n",
        "print(saving)\n",
        "\n",
        "my_name = \"King Bo II\" ##Overwrite variable\n",
        "print(my_name)"
      ],
      "metadata": {
        "colab": {
          "base_uri": "https://localhost:8080/"
        },
        "id": "b3rWUdRgO-15",
        "outputId": "f03c050f-f42c-44d3-f41d-86afcde313c2"
      },
      "execution_count": null,
      "outputs": [
        {
          "output_type": "stream",
          "name": "stdout",
          "text": [
            "14000\n",
            "King Bo II\n"
          ]
        }
      ]
    },
    {
      "cell_type": "code",
      "source": [
        "## delete variable\n",
        "del saving"
      ],
      "metadata": {
        "id": "wugitWTyWNxh"
      },
      "execution_count": null,
      "outputs": []
    },
    {
      "cell_type": "code",
      "source": [
        "## string\n",
        "## fstring => format string\n",
        "my_name = \"turbo\"\n",
        "age = 27\n",
        "fav_lang = \"python\"\n",
        "f\"Hi!! my name is {my_name} and I'm {age} years olds.\""
      ],
      "metadata": {
        "colab": {
          "base_uri": "https://localhost:8080/",
          "height": 35
        },
        "id": "D__nzk2WXZUR",
        "outputId": "5ad68269-fc1a-40f4-bc88-e5847ed43c8b"
      },
      "execution_count": null,
      "outputs": [
        {
          "output_type": "execute_result",
          "data": {
            "text/plain": [
              "\"Hi!! my name is turbo and I'm 27 years olds.\""
            ],
            "application/vnd.google.colaboratory.intrinsic+json": {
              "type": "string"
            }
          },
          "metadata": {},
          "execution_count": 8
        }
      ]
    },
    {
      "cell_type": "code",
      "source": [
        "##old / traditional way to create template\n",
        "\"Hi! myname is {}\".format(my_name)"
      ],
      "metadata": {
        "colab": {
          "base_uri": "https://localhost:8080/",
          "height": 35
        },
        "id": "UXeTFJkLYGbz",
        "outputId": "0040ed03-6098-4192-ddec-1ac873f41064"
      },
      "execution_count": null,
      "outputs": [
        {
          "output_type": "execute_result",
          "data": {
            "text/plain": [
              "'Hi! myname is turbo'"
            ],
            "application/vnd.google.colaboratory.intrinsic+json": {
              "type": "string"
            }
          },
          "metadata": {},
          "execution_count": 9
        }
      ]
    },
    {
      "cell_type": "code",
      "source": [
        "##string + string that right\n",
        "##string*3\n",
        "text = \"blackpink\" + \" in your area!\""
      ],
      "metadata": {
        "id": "j_J8YuokYsdK"
      },
      "execution_count": null,
      "outputs": []
    },
    {
      "cell_type": "code",
      "source": [
        "len(text)"
      ],
      "metadata": {
        "colab": {
          "base_uri": "https://localhost:8080/"
        },
        "id": "Aw5nPAcrY-s2",
        "outputId": "eee071bb-a212-4a95-a5fe-98e2aac310db"
      },
      "execution_count": null,
      "outputs": [
        {
          "output_type": "execute_result",
          "data": {
            "text/plain": [
              "23"
            ]
          },
          "metadata": {},
          "execution_count": 13
        }
      ]
    },
    {
      "cell_type": "code",
      "source": [
        "## Data types\n",
        "## 1. int :\n",
        "## 2. float : continus\n",
        "## 3. str\n",
        "## 4. bool : True False\n",
        "## python /R is case sensitive"
      ],
      "metadata": {
        "id": "IqvjjK8bZdSz"
      },
      "execution_count": null,
      "outputs": []
    },
    {
      "cell_type": "code",
      "source": [
        "x = 5\n",
        "type(x)"
      ],
      "metadata": {
        "colab": {
          "base_uri": "https://localhost:8080/"
        },
        "id": "oB320emBZ5hg",
        "outputId": "dceb7886-aae4-41fd-f5d3-3230e563b913"
      },
      "execution_count": null,
      "outputs": [
        {
          "output_type": "execute_result",
          "data": {
            "text/plain": [
              "int"
            ]
          },
          "metadata": {},
          "execution_count": 15
        }
      ]
    },
    {
      "cell_type": "code",
      "source": [
        "## newline str \\n\n",
        "## tab \\t\n",
        "print(\"Hello\\nworld\")"
      ],
      "metadata": {
        "colab": {
          "base_uri": "https://localhost:8080/"
        },
        "id": "qsjiUwbWZ9P1",
        "outputId": "0a966d0d-ac47-4182-cfd2-dc399ada7adc"
      },
      "execution_count": null,
      "outputs": [
        {
          "output_type": "stream",
          "name": "stdout",
          "text": [
            "Hello\n",
            "world\n"
          ]
        }
      ]
    },
    {
      "cell_type": "code",
      "source": [
        "##multi str line \"\"\"\n",
        "poem = \"\"\" Hello world\n",
        "I'm learning python\n",
        "and R \"\"\"\n",
        "print(poem)"
      ],
      "metadata": {
        "colab": {
          "base_uri": "https://localhost:8080/"
        },
        "id": "0lO_NDNUa7O6",
        "outputId": "5134af89-6d0f-48fc-f867-040e7e33b2b1"
      },
      "execution_count": null,
      "outputs": [
        {
          "output_type": "stream",
          "name": "stdout",
          "text": [
            " Hello world\n",
            "I'm learning python\n",
            "and R \n"
          ]
        }
      ]
    },
    {
      "cell_type": "code",
      "source": [
        "## convert data type\n",
        "## int() float() str() bool()\n",
        "\n",
        "x = 1\n",
        "print(x, type(x))\n",
        "\n",
        "x = str(x)\n",
        "print(x, type(x))\n"
      ],
      "metadata": {
        "colab": {
          "base_uri": "https://localhost:8080/"
        },
        "id": "scs6fTarbQpC",
        "outputId": "ecaa1bb8-e312-413d-c9ab-cf6c2b505ede"
      },
      "execution_count": null,
      "outputs": [
        {
          "output_type": "stream",
          "name": "stdout",
          "text": [
            "1 <class 'int'>\n",
            "1 <class 'str'>\n"
          ]
        }
      ]
    },
    {
      "cell_type": "code",
      "source": [
        "## get input from user\n",
        "\n",
        "user_name = input(\"What's your username: \")\n",
        "print(\"Hi! \" + user_name)\n",
        "\n",
        "user_age = input(\"How old are you? \")\n",
        "print(\"Your age \" + user_age)\n",
        "print(int(user_age)*2)"
      ],
      "metadata": {
        "colab": {
          "base_uri": "https://localhost:8080/"
        },
        "id": "L6fL6PqFbc-Y",
        "outputId": "5de45baf-202e-4a79-d41f-d2d8aaf2a276"
      },
      "execution_count": null,
      "outputs": [
        {
          "output_type": "stream",
          "name": "stdout",
          "text": [
            "What's your username: thanapatbo\n",
            "Hi! thanapatbo\n",
            "How old are you? 27\n",
            "Your age 27\n",
            "54\n"
          ]
        }
      ]
    },
    {
      "cell_type": "code",
      "source": [
        "## type hint\n",
        "age : int = 20"
      ],
      "metadata": {
        "id": "Crvj-f_QcilW"
      },
      "execution_count": null,
      "outputs": []
    },
    {
      "cell_type": "code",
      "source": [
        "## function\n",
        "## def : define\n",
        "\n",
        "def add_two_num(val1, val2) :\n",
        "    return val1 + val2"
      ],
      "metadata": {
        "id": "YTE5gCLAd-5O"
      },
      "execution_count": null,
      "outputs": []
    },
    {
      "cell_type": "code",
      "source": [
        "result = add_two_num(10,7)\n",
        "print(result)"
      ],
      "metadata": {
        "colab": {
          "base_uri": "https://localhost:8080/"
        },
        "id": "I277-3F1fONF",
        "outputId": "21508d0f-b389-4854-95da-0131f85b145f"
      },
      "execution_count": null,
      "outputs": [
        {
          "output_type": "stream",
          "name": "stdout",
          "text": [
            "17\n"
          ]
        }
      ]
    },
    {
      "cell_type": "code",
      "source": [
        "## default argument\n",
        "def greeting(name):\n",
        "    return f\"Hello! {name}\""
      ],
      "metadata": {
        "id": "q07jkGhPfRi9"
      },
      "execution_count": null,
      "outputs": []
    },
    {
      "cell_type": "code",
      "source": [
        "greeting(\"Bo\")"
      ],
      "metadata": {
        "colab": {
          "base_uri": "https://localhost:8080/",
          "height": 35
        },
        "id": "__TPGREBgNaN",
        "outputId": "d61f547d-08a7-4e93-9f45-42e4864d2356"
      },
      "execution_count": null,
      "outputs": [
        {
          "output_type": "execute_result",
          "data": {
            "text/plain": [
              "'Hello! Bo'"
            ],
            "application/vnd.google.colaboratory.intrinsic+json": {
              "type": "string"
            }
          },
          "metadata": {},
          "execution_count": 34
        }
      ]
    },
    {
      "cell_type": "code",
      "source": [
        "## function get input from user\n",
        "def greeting_v2() :\n",
        "    name = input(\"What's your name? \")\n",
        "    return f\"Hello {name}!\""
      ],
      "metadata": {
        "id": "LrE7BAZLgQuq"
      },
      "execution_count": null,
      "outputs": []
    },
    {
      "cell_type": "code",
      "source": [
        "greeting_v2()"
      ],
      "metadata": {
        "colab": {
          "base_uri": "https://localhost:8080/",
          "height": 53
        },
        "id": "czsucQybhQTM",
        "outputId": "48aa009b-c014-4c83-dee3-d4057d6d38c3"
      },
      "execution_count": null,
      "outputs": [
        {
          "name": "stdout",
          "output_type": "stream",
          "text": [
            "What's your name? turbo\n"
          ]
        },
        {
          "output_type": "execute_result",
          "data": {
            "text/plain": [
              "'Hello turbo!'"
            ],
            "application/vnd.google.colaboratory.intrinsic+json": {
              "type": "string"
            }
          },
          "metadata": {},
          "execution_count": 36
        }
      ]
    },
    {
      "cell_type": "code",
      "source": [
        "## function that returm multiple value\n",
        "def demo() :\n",
        "    name1 = input(\"Pick a name: \")\n",
        "    name2 = input(\"Pick a name: \")\n",
        "    return (name1, name2)"
      ],
      "metadata": {
        "id": "URjd6DxVhT6a"
      },
      "execution_count": null,
      "outputs": []
    },
    {
      "cell_type": "code",
      "source": [
        "demo()"
      ],
      "metadata": {
        "colab": {
          "base_uri": "https://localhost:8080/"
        },
        "id": "-XOzDNSVPtyN",
        "outputId": "beac7a0c-a4a9-4c5a-ccf1-f735efa633cb"
      },
      "execution_count": null,
      "outputs": [
        {
          "name": "stdout",
          "output_type": "stream",
          "text": [
            "Pick a name: bo\n",
            "Pick a name: preaw\n"
          ]
        },
        {
          "output_type": "execute_result",
          "data": {
            "text/plain": [
              "('bo', 'preaw')"
            ]
          },
          "metadata": {},
          "execution_count": 2
        }
      ]
    },
    {
      "cell_type": "code",
      "source": [
        " ##tuple unpacking\n",
        " friend1, friend2 = demo()\n",
        " print(friend1)\n",
        " print(friend2)"
      ],
      "metadata": {
        "colab": {
          "base_uri": "https://localhost:8080/"
        },
        "id": "F0eeanHkP2-w",
        "outputId": "e546ef20-e027-4d44-8037-b67f49ff4a7d"
      },
      "execution_count": null,
      "outputs": [
        {
          "output_type": "stream",
          "name": "stdout",
          "text": [
            "Pick a name: turbo\n",
            "Pick a name: preaw\n",
            "turbo\n",
            "preaw\n"
          ]
        }
      ]
    },
    {
      "cell_type": "code",
      "source": [
        "## 4. data structure\n",
        "## 4.1 list\n",
        "## 4.2 tuple\n",
        "## 4.3 dictionary\n",
        "## 4.4 set"
      ],
      "metadata": {
        "id": "A9z__U5kTHSi"
      },
      "execution_count": null,
      "outputs": []
    },
    {
      "cell_type": "code",
      "source": [
        "## 4.1 list[]\n",
        "shopping_list = [\"banana\", \"egg\", \"bread\", 100]"
      ],
      "metadata": {
        "id": "qXDWZ5OVT0vd"
      },
      "execution_count": null,
      "outputs": []
    },
    {
      "cell_type": "code",
      "source": [
        "## append value list => list.append()\n",
        "shopping_list.append(\"noodle\")"
      ],
      "metadata": {
        "id": "v4YA93sRUNmH"
      },
      "execution_count": null,
      "outputs": []
    },
    {
      "cell_type": "code",
      "source": [
        "shopping_list"
      ],
      "metadata": {
        "colab": {
          "base_uri": "https://localhost:8080/"
        },
        "id": "oCwwsiGTUQVD",
        "outputId": "3d20f146-8f2b-4ba1-a9bf-e9dca196a850"
      },
      "execution_count": null,
      "outputs": [
        {
          "output_type": "execute_result",
          "data": {
            "text/plain": [
              "['banana', 'egg', 'bread', 100, 'noodle']"
            ]
          },
          "metadata": {},
          "execution_count": 9
        }
      ]
    },
    {
      "cell_type": "code",
      "source": [
        "shopping_list.append(\"orange\")\n",
        "shopping_list"
      ],
      "metadata": {
        "colab": {
          "base_uri": "https://localhost:8080/"
        },
        "id": "9z3IjBWYUmzt",
        "outputId": "2a61aaf0-c64f-48c8-f332-e682d2ff7280"
      },
      "execution_count": null,
      "outputs": [
        {
          "output_type": "execute_result",
          "data": {
            "text/plain": [
              "['banana', 'egg', 'bread', 100, 'noodle', 'orange']"
            ]
          },
          "metadata": {},
          "execution_count": 10
        }
      ]
    },
    {
      "cell_type": "code",
      "source": [
        "## insert values\n",
        "shopping_list.insert(0, \"grape\")\n",
        "shopping_list"
      ],
      "metadata": {
        "colab": {
          "base_uri": "https://localhost:8080/"
        },
        "id": "EcOmnHMdUzb4",
        "outputId": "860e1be8-50eb-41ec-9c02-8aab3f636fdd"
      },
      "execution_count": null,
      "outputs": [
        {
          "output_type": "execute_result",
          "data": {
            "text/plain": [
              "['grape', 'banana', 'egg', 'bread', 100, 'noodle', 'orange']"
            ]
          },
          "metadata": {},
          "execution_count": 12
        }
      ]
    },
    {
      "cell_type": "code",
      "source": [
        "##update value if we know the index\n",
        "shopping_list[0] = \"watermelon\"\n",
        "shopping_list"
      ],
      "metadata": {
        "colab": {
          "base_uri": "https://localhost:8080/"
        },
        "id": "KsMSb0QHU6MJ",
        "outputId": "9ea2f34f-698a-4e27-f278-703d0110841a"
      },
      "execution_count": null,
      "outputs": [
        {
          "output_type": "execute_result",
          "data": {
            "text/plain": [
              "['watermelon', 'banana', 'egg', 'bread', 100, 'noodle', 'orange']"
            ]
          },
          "metadata": {},
          "execution_count": 13
        }
      ]
    },
    {
      "cell_type": "code",
      "source": [
        "shopping_list.insert(2, \"milk\")\n",
        "shopping_list"
      ],
      "metadata": {
        "colab": {
          "base_uri": "https://localhost:8080/"
        },
        "id": "gQH6A0lmV-EV",
        "outputId": "7918c7d4-391d-44a9-e6e9-fd122abb96ac"
      },
      "execution_count": null,
      "outputs": [
        {
          "output_type": "execute_result",
          "data": {
            "text/plain": [
              "['watermelon',\n",
              " 'banana',\n",
              " 'milk',\n",
              " 'milk',\n",
              " 'egg',\n",
              " 'bread',\n",
              " 100,\n",
              " 'noodle',\n",
              " 'orange']"
            ]
          },
          "metadata": {},
          "execution_count": 15
        }
      ]
    },
    {
      "cell_type": "code",
      "source": [
        "##count item in list\n",
        "len(shopping_list)"
      ],
      "metadata": {
        "colab": {
          "base_uri": "https://localhost:8080/"
        },
        "id": "WSJeXKMAWFsL",
        "outputId": "d7d3c641-c023-46ae-f21b-039cc139371d"
      },
      "execution_count": null,
      "outputs": [
        {
          "output_type": "execute_result",
          "data": {
            "text/plain": [
              "9"
            ]
          },
          "metadata": {},
          "execution_count": 16
        }
      ]
    },
    {
      "cell_type": "code",
      "source": [
        "## we know index item\n",
        "shopping_list.pop(2)"
      ],
      "metadata": {
        "colab": {
          "base_uri": "https://localhost:8080/",
          "height": 35
        },
        "id": "jH5Q9bx5WRlj",
        "outputId": "14044fa3-b002-4efc-dd55-b48d83740f21"
      },
      "execution_count": null,
      "outputs": [
        {
          "output_type": "execute_result",
          "data": {
            "text/plain": [
              "'milk'"
            ],
            "application/vnd.google.colaboratory.intrinsic+json": {
              "type": "string"
            }
          },
          "metadata": {},
          "execution_count": 17
        }
      ]
    },
    {
      "cell_type": "code",
      "source": [
        "shopping_list"
      ],
      "metadata": {
        "colab": {
          "base_uri": "https://localhost:8080/"
        },
        "id": "5dknm78-W5G2",
        "outputId": "84b6c841-7774-455f-811d-2d3c2053bab5"
      },
      "execution_count": null,
      "outputs": [
        {
          "output_type": "execute_result",
          "data": {
            "text/plain": [
              "['watermelon', 'banana', 'milk', 'egg', 'bread', 100, 'noodle', 'orange']"
            ]
          },
          "metadata": {},
          "execution_count": 18
        }
      ]
    },
    {
      "cell_type": "code",
      "source": [
        "len(shopping_list)"
      ],
      "metadata": {
        "colab": {
          "base_uri": "https://localhost:8080/"
        },
        "id": "0_2eottgW69T",
        "outputId": "ea9ed0a8-ff80-4287-d903-965b13009d31"
      },
      "execution_count": null,
      "outputs": [
        {
          "output_type": "execute_result",
          "data": {
            "text/plain": [
              "8"
            ]
          },
          "metadata": {},
          "execution_count": 19
        }
      ]
    },
    {
      "cell_type": "code",
      "source": [
        "##add two list together\n",
        "item1 = [\"banana\", \"grape\", \"orange\"]\n",
        "item2 = [\"milk\", \"bread\"]\n",
        "full_list = item1 + item2\n",
        "print(full_list, len(full_list))"
      ],
      "metadata": {
        "colab": {
          "base_uri": "https://localhost:8080/"
        },
        "id": "q7NlqYQZW-HV",
        "outputId": "34573402-0077-4ea4-b0a6-650897de111e"
      },
      "execution_count": null,
      "outputs": [
        {
          "output_type": "stream",
          "name": "stdout",
          "text": [
            "['banana', 'grape', 'orange', 'milk', 'bread'] 5\n"
          ]
        }
      ]
    },
    {
      "cell_type": "code",
      "source": [
        "## highlight how to use list\n",
        "item1 = [\"banana\", \"orange\"]\n",
        "item2 = item1.copy()\n",
        "\n",
        "item1[0] = \"longan\"\n",
        "print(item1, item2)"
      ],
      "metadata": {
        "colab": {
          "base_uri": "https://localhost:8080/"
        },
        "id": "4QYfp0x2UMdJ",
        "outputId": "b2f19257-07a8-4926-8118-bf48678da263"
      },
      "execution_count": null,
      "outputs": [
        {
          "output_type": "stream",
          "name": "stdout",
          "text": [
            "['longan', 'orange'] ['banana', 'orange']\n"
          ]
        }
      ]
    },
    {
      "cell_type": "code",
      "source": [
        "## 4.2 Tuple() very similar to list\n",
        "## tuple is immutable\n",
        "## while, list is mutable\n",
        "friends = (\"turbo\", \"john\", \"mary\")\n",
        "friends"
      ],
      "metadata": {
        "colab": {
          "base_uri": "https://localhost:8080/"
        },
        "id": "RaVVOkO7WFMB",
        "outputId": "e9173d81-059d-48f6-f795-ff900ada80e7"
      },
      "execution_count": null,
      "outputs": [
        {
          "output_type": "execute_result",
          "data": {
            "text/plain": [
              "('turbo', 'john', 'mary')"
            ]
          },
          "metadata": {},
          "execution_count": 3
        }
      ]
    },
    {
      "cell_type": "code",
      "source": [
        "## 4.3 dictionary {}\n",
        "## key-value pair\n",
        "def hi() :\n",
        "    return \"Hi!\"\n",
        "turbo = {\n",
        "    \"fname\" : \"Thanapat\",\n",
        "    \"lname\" : \"Ta-ngoen\",\n",
        "    \"age\" : 27,\n",
        "    \"education\" : \"bachelor\",\n",
        "    \"movie_lover\" : True,\n",
        "    \"fav_movies\" : [\"Spiderman\",\n",
        "                    \"Fast\",\n",
        "                    \"Captain America\"],\n",
        "    \"function\" : hi\n",
        "}"
      ],
      "metadata": {
        "id": "b5kazeYyWp0V"
      },
      "execution_count": null,
      "outputs": []
    },
    {
      "cell_type": "code",
      "source": [
        "turbo"
      ],
      "metadata": {
        "colab": {
          "base_uri": "https://localhost:8080/"
        },
        "id": "nQ8GFo9qcs4C",
        "outputId": "9331bb8e-a123-4cb6-84ad-4f8a45ec1316"
      },
      "execution_count": null,
      "outputs": [
        {
          "output_type": "execute_result",
          "data": {
            "text/plain": [
              "{'fname': 'Thanapat',\n",
              " 'lname': 'Ta-ngoen',\n",
              " 'age': 27,\n",
              " 'education': 'bachelor',\n",
              " 'movie_lover': True,\n",
              " 'fav_movies': ['Spiderman', 'Fast', 'Captain America'],\n",
              " 'function': <function __main__.hi()>}"
            ]
          },
          "metadata": {},
          "execution_count": 5
        }
      ]
    },
    {
      "cell_type": "code",
      "source": [
        "## subset dictionary\n",
        "turbo[\"fav_movies\"][1]"
      ],
      "metadata": {
        "colab": {
          "base_uri": "https://localhost:8080/",
          "height": 35
        },
        "id": "ad-ziqCLcvpP",
        "outputId": "f50ff5ba-811f-43aa-e0d2-8e2ba405389f"
      },
      "execution_count": null,
      "outputs": [
        {
          "output_type": "execute_result",
          "data": {
            "text/plain": [
              "'Fast'"
            ],
            "application/vnd.google.colaboratory.intrinsic+json": {
              "type": "string"
            }
          },
          "metadata": {},
          "execution_count": 6
        }
      ]
    },
    {
      "cell_type": "code",
      "source": [
        "turbo_func = turbo[\"function\"]"
      ],
      "metadata": {
        "id": "uHTt01i3dCVA"
      },
      "execution_count": null,
      "outputs": []
    },
    {
      "cell_type": "code",
      "source": [
        "turbo_func()"
      ],
      "metadata": {
        "colab": {
          "base_uri": "https://localhost:8080/",
          "height": 35
        },
        "id": "rjOo-KZBdPSs",
        "outputId": "3b114b05-4b5e-4da7-b479-23850ac9ea6a"
      },
      "execution_count": null,
      "outputs": [
        {
          "output_type": "execute_result",
          "data": {
            "text/plain": [
              "'Hi!'"
            ],
            "application/vnd.google.colaboratory.intrinsic+json": {
              "type": "string"
            }
          },
          "metadata": {},
          "execution_count": 9
        }
      ]
    },
    {
      "cell_type": "code",
      "source": [
        "## del key\n",
        "del turbo[\"lname\"]"
      ],
      "metadata": {
        "id": "i3dEvOcydb1O"
      },
      "execution_count": null,
      "outputs": []
    },
    {
      "cell_type": "code",
      "source": [
        "turbo"
      ],
      "metadata": {
        "colab": {
          "base_uri": "https://localhost:8080/"
        },
        "id": "phVqF2ohdlZ1",
        "outputId": "ba4511ec-ee63-4636-b30f-6ea0ec9b0fd3"
      },
      "execution_count": null,
      "outputs": [
        {
          "output_type": "execute_result",
          "data": {
            "text/plain": [
              "{'fname': 'Thanapat',\n",
              " 'age': 27,\n",
              " 'education': 'bachelor',\n",
              " 'movie_lover': True,\n",
              " 'fav_movies': ['Spiderman', 'Fast', 'Captain America'],\n",
              " 'function': <function __main__.hi()>}"
            ]
          },
          "metadata": {},
          "execution_count": 11
        }
      ]
    },
    {
      "cell_type": "code",
      "source": [
        "##update value in Dictionary\n",
        "turbo[\"lname\"] = \"Ta-ngoen\""
      ],
      "metadata": {
        "id": "InesBcEDdmwA"
      },
      "execution_count": null,
      "outputs": []
    },
    {
      "cell_type": "code",
      "source": [
        "turbo"
      ],
      "metadata": {
        "colab": {
          "base_uri": "https://localhost:8080/"
        },
        "id": "0sItp7oPdswQ",
        "outputId": "f399fb68-7b42-4449-c1ec-3ad64cc70ff1"
      },
      "execution_count": null,
      "outputs": [
        {
          "output_type": "execute_result",
          "data": {
            "text/plain": [
              "{'fname': 'Thanapat',\n",
              " 'age': 27,\n",
              " 'education': 'bachelor',\n",
              " 'movie_lover': True,\n",
              " 'fav_movies': ['Spiderman', 'Fast', 'Captain America'],\n",
              " 'function': <function __main__.hi()>,\n",
              " 'lname': 'Ta-ngoen'}"
            ]
          },
          "metadata": {},
          "execution_count": 13
        }
      ]
    },
    {
      "cell_type": "code",
      "source": [
        "## .get method in Dictionary\n",
        "## seach in dictionary\n",
        "turbo.get(\"fav_movies\")"
      ],
      "metadata": {
        "colab": {
          "base_uri": "https://localhost:8080/"
        },
        "id": "vj5vHdqPduBU",
        "outputId": "cf94aa3c-3652-4511-dbd1-02e2172c9210"
      },
      "execution_count": null,
      "outputs": [
        {
          "output_type": "execute_result",
          "data": {
            "text/plain": [
              "['Spiderman', 'Fast', 'Captain America']"
            ]
          },
          "metadata": {},
          "execution_count": 14
        }
      ]
    },
    {
      "cell_type": "code",
      "source": [
        "## 4.4 set{} => unique set\n",
        "fruits = {\"apple\", \"orange\", \"orange\", \"banana\", \"banana\"}\n",
        "type(fruits)"
      ],
      "metadata": {
        "colab": {
          "base_uri": "https://localhost:8080/"
        },
        "id": "E4iIUfGNd97T",
        "outputId": "59b6577c-6001-484f-cd40-774ca66e85a6"
      },
      "execution_count": null,
      "outputs": [
        {
          "output_type": "execute_result",
          "data": {
            "text/plain": [
              "set"
            ]
          },
          "metadata": {},
          "execution_count": 16
        }
      ]
    },
    {
      "cell_type": "code",
      "source": [
        "uniq_fruits = set(fruits)\n",
        "len(fruits)"
      ],
      "metadata": {
        "colab": {
          "base_uri": "https://localhost:8080/"
        },
        "id": "E0ENaPVFeieW",
        "outputId": "701d2a1f-3472-43f8-dbc9-cf617bc597cb"
      },
      "execution_count": null,
      "outputs": [
        {
          "output_type": "execute_result",
          "data": {
            "text/plain": [
              "3"
            ]
          },
          "metadata": {},
          "execution_count": 17
        }
      ]
    },
    {
      "cell_type": "code",
      "source": [],
      "metadata": {
        "id": "aUAL0HbieyqB"
      },
      "execution_count": null,
      "outputs": []
    }
  ]
}
