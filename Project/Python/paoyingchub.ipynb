## create rps_game

import random

def rps_game ():
    user_name = input("What is your name? ")
    print(f"Hi! {user_name} , Welcome to RPS game again.")
    print("Let's play RPS game !!")
    print("Choose your choice r = Rock, p = Paper, s = scissors")
    print("If you want to Quit select q = Quit ")
    user_score = 0
    com_score = 0
    while True :
        choice_game = ["r", "p", "s"]
        com_play = random.choice(choice_game)
        user_ans = input("Choose your choice : ")
        if com_play == user_ans:
            print("Tie!!")
            user_score += 1
            com_score += 1
        elif user_ans == "r" :
            if com_play == "s" :
                print("You win!")
                user_score += 1
            else :
                print("You lose pls try agian :P")
                com_score += 1
        elif user_ans == "p" :
            if com_play == "r" :
                print("You win!")
                user_score += 1
            else :
                print("You lose pls try agian :P")
                com_score += 1
        elif user_ans == "s" :
            if com_play == "p" :
                print("You Win!")
                user_score += 1
            else :
                print("You lose pls try agian :P")
                com_score += 1
        elif user_ans == "q" :
            print(f"You score : {user_score} ")
            print(f"Com score : {com_score} ")
            if user_score > com_score :
                print("The Legend of RPS Game!!")
            elif user_score == com_score :
                print("Tie this game Let's play again")
            else :
                print("You Lose!")
            print("See you again naxt game!")
            break
        else :
            print("Plase try again! check your answer.")

rps_game()
