{
  "nbformat": 4,
  "nbformat_minor": 0,
  "metadata": {
    "colab": {
      "provenance": [],
      "authorship_tag": "ABX9TyNv9mub8BWiYxMS6YrvX8Wp",
      "include_colab_link": true
    },
    "kernelspec": {
      "name": "python3",
      "display_name": "Python 3"
    },
    "language_info": {
      "name": "python"
    }
  },
  "cells": [
    {
      "cell_type": "markdown",
      "metadata": {
        "id": "view-in-github",
        "colab_type": "text"
      },
      "source": [
        "<a href=\"https://colab.research.google.com/github/thanapatbo/Data-science-bootcamp8/blob/main/Python_101.ipynb\" target=\"_parent\"><img src=\"https://colab.research.google.com/assets/colab-badge.svg\" alt=\"Open In Colab\"/></a>"
      ]
    },
    {
      "cell_type": "markdown",
      "source": [
        "# **Essential Python 101**\n",
        "today we leaning Python 101 for beginners\n",
        "\n",
        "*   variable\n",
        "*data types\n",
        "*data structures\n",
        "*fuction\n",
        "*control flow\n",
        "*OOP\n",
        "\n",
        "\n"
      ],
      "metadata": {
        "id": "A0L30wtYzg_o"
      }
    },
    {
      "cell_type": "code",
      "execution_count": null,
      "metadata": {
        "colab": {
          "base_uri": "https://localhost:8080/"
        },
        "id": "AkoUMHHmy-5t",
        "outputId": "e400b9a7-25a7-4b79-d892-bdef9c2e5510"
      },
      "outputs": [
        {
          "output_type": "stream",
          "name": "stdout",
          "text": [
            "Hello world!\n"
          ]
        }
      ],
      "source": [
        "print (\"Hello world!\")"
      ]
    },
    {
      "cell_type": "code",
      "source": [
        "print (\"I'm leaning Python! 101\")"
      ],
      "metadata": {
        "colab": {
          "base_uri": "https://localhost:8080/"
        },
        "id": "1zkmFM3T5GAF",
        "outputId": "aac85c2d-a559-4f91-d61c-3dabdca5afb9"
      },
      "execution_count": null,
      "outputs": [
        {
          "output_type": "stream",
          "name": "stdout",
          "text": [
            "I'm leaning Python! 101\n"
          ]
        }
      ]
    },
    {
      "cell_type": "code",
      "source": [
        "#Basic calculation\n",
        "print(1+1)\n",
        "print(2*2)\n",
        "print(5*3)\n",
        "print(7/2)\n",
        "print(7//2)"
      ],
      "metadata": {
        "colab": {
          "base_uri": "https://localhost:8080/"
        },
        "id": "pFINDs2k5ZXT",
        "outputId": "6ad5dc48-b36d-48ad-83e0-7689c9354e7a"
      },
      "execution_count": null,
      "outputs": [
        {
          "output_type": "stream",
          "name": "stdout",
          "text": [
            "2\n",
            "4\n",
            "15\n",
            "3.5\n",
            "3\n"
          ]
        }
      ]
    },
    {
      "cell_type": "code",
      "source": [
        "pow(15, 3)"
      ],
      "metadata": {
        "colab": {
          "base_uri": "https://localhost:8080/"
        },
        "id": "wbb24wEc_7sD",
        "outputId": "3581e928-4f33-42bd-ba72-097cd9a5be3e"
      },
      "execution_count": null,
      "outputs": [
        {
          "output_type": "execute_result",
          "data": {
            "text/plain": [
              "3375"
            ]
          },
          "metadata": {},
          "execution_count": 43
        }
      ]
    },
    {
      "cell_type": "code",
      "source": [
        "abs (-666)"
      ],
      "metadata": {
        "colab": {
          "base_uri": "https://localhost:8080/"
        },
        "id": "u2HNxGFd6raD",
        "outputId": "7e45af73-0f53-468e-b43f-17ba13f3c2ea"
      },
      "execution_count": null,
      "outputs": [
        {
          "output_type": "execute_result",
          "data": {
            "text/plain": [
              "666"
            ]
          },
          "metadata": {},
          "execution_count": 18
        }
      ]
    },
    {
      "cell_type": "code",
      "source": [
        "abs (-500)"
      ],
      "metadata": {
        "colab": {
          "base_uri": "https://localhost:8080/"
        },
        "id": "MmdLaQwF7bkR",
        "outputId": "7e127664-29d9-4104-be95-fe965fe55ed5"
      },
      "execution_count": null,
      "outputs": [
        {
          "output_type": "execute_result",
          "data": {
            "text/plain": [
              "500"
            ]
          },
          "metadata": {},
          "execution_count": 22
        }
      ]
    },
    {
      "cell_type": "code",
      "source": [
        "#modulo\n",
        "5%3"
      ],
      "metadata": {
        "colab": {
          "base_uri": "https://localhost:8080/"
        },
        "id": "UhBQcd4y7eDP",
        "outputId": "772c3931-0e70-40fe-d426-12bc1223d48f"
      },
      "execution_count": null,
      "outputs": [
        {
          "output_type": "execute_result",
          "data": {
            "text/plain": [
              "2"
            ]
          },
          "metadata": {},
          "execution_count": 23
        }
      ]
    },
    {
      "cell_type": "code",
      "source": [
        "#assign a variable\n",
        "my_name = \"turbo\"\n",
        "age = 26\n",
        "gpa = 2.99\n",
        "coffee_lover = True #False"
      ],
      "metadata": {
        "id": "bSFDGXPk8582"
      },
      "execution_count": null,
      "outputs": []
    },
    {
      "cell_type": "code",
      "source": [
        "#case sensitive N != n\n",
        "print (my_name ,age, gpa, coffee_lover)"
      ],
      "metadata": {
        "colab": {
          "base_uri": "https://localhost:8080/"
        },
        "id": "JOEeGMNU9Sus",
        "outputId": "a6e886dd-030c-4447-95f1-8fd953b1451e"
      },
      "execution_count": null,
      "outputs": [
        {
          "output_type": "stream",
          "name": "stdout",
          "text": [
            "turbo 26 2.99 True\n"
          ]
        }
      ]
    },
    {
      "cell_type": "code",
      "source": [
        "#over write a value (varaible)\n",
        "age = 27\n",
        "new_age = age+12\n",
        "print(age, new_age)"
      ],
      "metadata": {
        "colab": {
          "base_uri": "https://localhost:8080/"
        },
        "id": "W3KGyxD19W8n",
        "outputId": "23979f02-f20f-4b85-9ecd-65e21abf0ae2"
      },
      "execution_count": null,
      "outputs": [
        {
          "output_type": "stream",
          "name": "stdout",
          "text": [
            "27 39\n"
          ]
        }
      ]
    },
    {
      "cell_type": "code",
      "source": [
        "#ex'\n",
        "pixel_price = 30000\n",
        "discount = 0.15\n",
        "new_pixel_price = pixel_price * (1-discount)\n",
        "print(pixel_price, new_pixel_price)"
      ],
      "metadata": {
        "colab": {
          "base_uri": "https://localhost:8080/"
        },
        "id": "s3SoGNgI-tY3",
        "outputId": "84784473-32a2-49ef-91d7-4a311216a148"
      },
      "execution_count": null,
      "outputs": [
        {
          "output_type": "stream",
          "name": "stdout",
          "text": [
            "30000 25500.0\n"
          ]
        }
      ]
    },
    {
      "cell_type": "code",
      "source": [
        "#remove variable\n",
        "del new_pixel_price"
      ],
      "metadata": {
        "id": "GfsS4XTq_OT_"
      },
      "execution_count": null,
      "outputs": []
    },
    {
      "cell_type": "code",
      "source": [
        "del pow"
      ],
      "metadata": {
        "id": "0D2OxjjI_wrl"
      },
      "execution_count": null,
      "outputs": []
    },
    {
      "cell_type": "code",
      "source": [
        "#count variable\n",
        "age = 26\n",
        "age +=1 #short syntax\n",
        "print(age)"
      ],
      "metadata": {
        "colab": {
          "base_uri": "https://localhost:8080/"
        },
        "id": "TbpY5gn3__vg",
        "outputId": "f46cbbbe-18fe-4fab-93d1-e40170d11149"
      },
      "execution_count": null,
      "outputs": [
        {
          "output_type": "stream",
          "name": "stdout",
          "text": [
            "27\n"
          ]
        }
      ]
    },
    {
      "cell_type": "code",
      "source": [
        "#data types\n",
        "# int float string bool"
      ],
      "metadata": {
        "id": "AJEBkaB_AOA1"
      },
      "execution_count": null,
      "outputs": []
    },
    {
      "cell_type": "code",
      "source": [
        "age = 26\n",
        "gpa = 2.99\n",
        "school = \"Samutprakan School\"\n",
        "coffee_lover = True"
      ],
      "metadata": {
        "id": "Yuv_5ebNA0Ka"
      },
      "execution_count": null,
      "outputs": []
    },
    {
      "cell_type": "code",
      "source": [
        "#cheak datatypes\n",
        "print( type(age) )\n",
        "print( type(gpa) )\n",
        "print( type(school) )\n",
        "print (type(coffee_lover) )"
      ],
      "metadata": {
        "colab": {
          "base_uri": "https://localhost:8080/"
        },
        "id": "Ky81bsz0BFJD",
        "outputId": "b8030aca-a1ef-4228-bd50-c78e37f8e0c8"
      },
      "execution_count": null,
      "outputs": [
        {
          "output_type": "stream",
          "name": "stdout",
          "text": [
            "<class 'int'>\n",
            "<class 'float'>\n",
            "<class 'str'>\n",
            "<class 'bool'>\n"
          ]
        }
      ]
    },
    {
      "cell_type": "code",
      "source": [
        "#convers types\n",
        "x = 100\n",
        "x = str(x)\n",
        "print(x, type(x))"
      ],
      "metadata": {
        "colab": {
          "base_uri": "https://localhost:8080/"
        },
        "id": "jKTU2eUBB4RG",
        "outputId": "761bf108-2150-49c4-a267-7d9ea7dfd313"
      },
      "execution_count": null,
      "outputs": [
        {
          "output_type": "stream",
          "name": "stdout",
          "text": [
            "100 <class 'str'>\n"
          ]
        }
      ]
    },
    {
      "cell_type": "code",
      "source": [
        "y = True #True=1,False=0\n",
        "y = int(y)\n",
        "print (y, type(y))"
      ],
      "metadata": {
        "colab": {
          "base_uri": "https://localhost:8080/"
        },
        "id": "QsmTNhDGCSBa",
        "outputId": "b6b46af0-c30a-49c7-894e-8bf0e3993ca2"
      },
      "execution_count": null,
      "outputs": [
        {
          "output_type": "stream",
          "name": "stdout",
          "text": [
            "1 <class 'int'>\n"
          ]
        }
      ]
    },
    {
      "cell_type": "code",
      "source": [
        "z = 1\n",
        "z = bool(z)\n",
        "print(z, type(z))"
      ],
      "metadata": {
        "colab": {
          "base_uri": "https://localhost:8080/"
        },
        "id": "UVCGdOeoDb3v",
        "outputId": "d67d6813-329c-4bb2-c0a8-349956945022"
      },
      "execution_count": null,
      "outputs": [
        {
          "output_type": "stream",
          "name": "stdout",
          "text": [
            "True <class 'bool'>\n"
          ]
        }
      ]
    },
    {
      "cell_type": "code",
      "source": [
        "age = 26\n",
        "print (age+age, age*2, age/2)"
      ],
      "metadata": {
        "colab": {
          "base_uri": "https://localhost:8080/"
        },
        "id": "p5gnEKdLD23Y",
        "outputId": "7bd4da0f-cf83-45bc-d4c5-6e11032cfd88"
      },
      "execution_count": null,
      "outputs": [
        {
          "output_type": "stream",
          "name": "stdout",
          "text": [
            "52 52 13.0\n"
          ]
        }
      ]
    },
    {
      "cell_type": "code",
      "source": [
        "text = \"Hello world\"\n",
        "print(text*2)"
      ],
      "metadata": {
        "colab": {
          "base_uri": "https://localhost:8080/"
        },
        "id": "x1ArW2OQEJ8A",
        "outputId": "646744a5-523d-4f34-9bbf-11df86149173"
      },
      "execution_count": null,
      "outputs": [
        {
          "output_type": "stream",
          "name": "stdout",
          "text": [
            "Hello worldHello world\n"
          ]
        }
      ]
    },
    {
      "cell_type": "code",
      "source": [
        "#type hint (new feture)\n",
        "age : int = 26\n",
        "gpa : float = 2.99\n",
        "my_name : str = \"turbo\"\n",
        "junkfood : bool = False"
      ],
      "metadata": {
        "id": "Nt4kT0s4EZrC"
      },
      "execution_count": null,
      "outputs": []
    },
    {
      "cell_type": "code",
      "source": [
        "print(age, type(age))"
      ],
      "metadata": {
        "colab": {
          "base_uri": "https://localhost:8080/"
        },
        "id": "oWK25oqWFLQA",
        "outputId": "8655c6cb-06eb-499d-f7fe-d53265c56b27"
      },
      "execution_count": null,
      "outputs": [
        {
          "output_type": "stream",
          "name": "stdout",
          "text": [
            "26 <class 'int'>\n"
          ]
        }
      ]
    },
    {
      "cell_type": "code",
      "source": [
        "#create function\n",
        "#function greeting => greeting(\"Turbo\")#Aggrement function\n",
        "def greeting(name=\"Turbo\", location=\"london\"):\n",
        "    print(\"Hello \" + name)\n",
        "    print(\"She live in \"+ location + \".\")"
      ],
      "metadata": {
        "id": "3FOPvO2gGRKR"
      },
      "execution_count": null,
      "outputs": []
    },
    {
      "cell_type": "code",
      "source": [
        "greeting(\"preaw\")"
      ],
      "metadata": {
        "colab": {
          "base_uri": "https://localhost:8080/"
        },
        "id": "h_gYlGZGHkPX",
        "outputId": "258dc337-d7e2-46ba-f829-beb9ab1b4bd0"
      },
      "execution_count": null,
      "outputs": [
        {
          "output_type": "stream",
          "name": "stdout",
          "text": [
            "Hello preaw\n",
            "She live in london.\n"
          ]
        }
      ]
    },
    {
      "cell_type": "code",
      "source": [
        "#ex2 call \"return is ended\"\n",
        "def add_two_num(num1,num2):\n",
        "    print(\"turbo\")\n",
        "    return(num1 + num2)\n",
        "    print(\"wow!!\")"
      ],
      "metadata": {
        "id": "fGGiPyJ3Hluk"
      },
      "execution_count": null,
      "outputs": []
    },
    {
      "cell_type": "code",
      "source": [
        "result = add_two_num(10, 10)\n",
        "print(result)"
      ],
      "metadata": {
        "colab": {
          "base_uri": "https://localhost:8080/"
        },
        "id": "PBcojZE8KE4M",
        "outputId": "c7b0eade-e24b-4cf2-8f2a-00cfc65842a3"
      },
      "execution_count": null,
      "outputs": [
        {
          "output_type": "stream",
          "name": "stdout",
          "text": [
            "turbo\n",
            "20\n"
          ]
        }
      ]
    },
    {
      "cell_type": "code",
      "source": [
        "##work with string\n",
        "text = \"Hello\"\n",
        "long_text = \"\"\"This\n",
        "    is\n",
        "    a\n",
        "    long\n",
        "    text\"\"\"\n",
        "print(text)\n",
        "print(long_text)"
      ],
      "metadata": {
        "colab": {
          "base_uri": "https://localhost:8080/"
        },
        "id": "V1TNwu17KZXG",
        "outputId": "773c20b4-c9ef-4471-cd69-4c1ca8f2ff79"
      },
      "execution_count": null,
      "outputs": [
        {
          "output_type": "stream",
          "name": "stdout",
          "text": [
            "Hello\n",
            "This\n",
            "    is \n",
            "    a\n",
            "    long\n",
            "    text\n"
          ]
        }
      ]
    },
    {
      "cell_type": "code",
      "source": [
        "#str template => fstrings\n",
        "my_name = \"Turbo\"\n",
        "location = \"thailand\"\n",
        "\n",
        "text  = f\"Hi! my name is {my_name} and I live in {location}.\"\n",
        "print(text)"
      ],
      "metadata": {
        "id": "QzCAcHXrMUZx",
        "colab": {
          "base_uri": "https://localhost:8080/"
        },
        "outputId": "0e7c101a-4906-48b9-9de7-167d863fe7aa"
      },
      "execution_count": null,
      "outputs": [
        {
          "output_type": "stream",
          "name": "stdout",
          "text": [
            "Hi! my name is Turbo and I live in thailand.\n"
          ]
        }
      ]
    },
    {
      "cell_type": "code",
      "source": [
        "text = \"a duck walks into a bar\"\n",
        "print(text)"
      ],
      "metadata": {
        "colab": {
          "base_uri": "https://localhost:8080/"
        },
        "id": "nYQnFvNDgSku",
        "outputId": "a54543b4-0b3a-4bec-a825-2579bf616ecf"
      },
      "execution_count": null,
      "outputs": [
        {
          "output_type": "stream",
          "name": "stdout",
          "text": [
            "a duck walks into a bar\n"
          ]
        }
      ]
    },
    {
      "cell_type": "code",
      "source": [
        "len(text)"
      ],
      "metadata": {
        "colab": {
          "base_uri": "https://localhost:8080/"
        },
        "id": "PquHEWsRhVnk",
        "outputId": "959403db-f0ef-4056-ecf7-8bffd1162b56"
      },
      "execution_count": null,
      "outputs": [
        {
          "output_type": "execute_result",
          "data": {
            "text/plain": [
              "23"
            ]
          },
          "metadata": {},
          "execution_count": 6
        }
      ]
    },
    {
      "cell_type": "code",
      "source": [
        "#slicing =>index starts with 0\n",
        "print(text[0], text[-1], text[22])"
      ],
      "metadata": {
        "colab": {
          "base_uri": "https://localhost:8080/"
        },
        "id": "r8yYC5flhemU",
        "outputId": "5828600e-68ef-4dcb-8af9-318a6a0ffe2c"
      },
      "execution_count": null,
      "outputs": [
        {
          "output_type": "stream",
          "name": "stdout",
          "text": [
            "a r r\n"
          ]
        }
      ]
    },
    {
      "cell_type": "code",
      "source": [
        "#up to but not include\n",
        "print(text[13:17])\n",
        "print(text[7:])\n",
        "print(text[-3:])"
      ],
      "metadata": {
        "colab": {
          "base_uri": "https://localhost:8080/"
        },
        "id": "erE1I1trh5ip",
        "outputId": "7a182131-a72b-4cb0-ba23-3682721f2885"
      },
      "execution_count": null,
      "outputs": [
        {
          "output_type": "stream",
          "name": "stdout",
          "text": [
            "into\n",
            "walks into a bar\n",
            "bar\n"
          ]
        }
      ]
    },
    {
      "cell_type": "code",
      "source": [
        "#string Method\n",
        "#string is immutable\n",
        "name = \"Python\" #Cython\n",
        "name = \"C\" + name[1:]\n",
        "print(name)"
      ],
      "metadata": {
        "colab": {
          "base_uri": "https://localhost:8080/"
        },
        "id": "6ADle4q0kO-7",
        "outputId": "b53eea64-02d4-472a-ff9c-c2d787c13a85"
      },
      "execution_count": null,
      "outputs": [
        {
          "output_type": "stream",
          "name": "stdout",
          "text": [
            "Cython\n"
          ]
        }
      ]
    },
    {
      "cell_type": "code",
      "source": [
        "text = \"a duck walks into a bar\""
      ],
      "metadata": {
        "id": "VPBoe9HGlWdg"
      },
      "execution_count": null,
      "outputs": []
    },
    {
      "cell_type": "code",
      "source": [
        "#function vs method\n",
        "text.upper()"
      ],
      "metadata": {
        "colab": {
          "base_uri": "https://localhost:8080/",
          "height": 37
        },
        "id": "KPaaSk5ulvw2",
        "outputId": "90d7e5c2-878b-489b-f970-142b70f2f431"
      },
      "execution_count": null,
      "outputs": [
        {
          "output_type": "execute_result",
          "data": {
            "text/plain": [
              "'A DUCK WALKS INTO A BAR'"
            ],
            "application/vnd.google.colaboratory.intrinsic+json": {
              "type": "string"
            }
          },
          "metadata": {},
          "execution_count": 21
        }
      ]
    },
    {
      "cell_type": "code",
      "source": [
        "text.lower()"
      ],
      "metadata": {
        "colab": {
          "base_uri": "https://localhost:8080/",
          "height": 37
        },
        "id": "Q9Jgw02Rm6-F",
        "outputId": "7a57dfc7-fe29-43e3-ccc3-f8260e99f7c1"
      },
      "execution_count": null,
      "outputs": [
        {
          "output_type": "execute_result",
          "data": {
            "text/plain": [
              "'a duck walks into a bar'"
            ],
            "application/vnd.google.colaboratory.intrinsic+json": {
              "type": "string"
            }
          },
          "metadata": {},
          "execution_count": 22
        }
      ]
    },
    {
      "cell_type": "code",
      "source": [
        "text.replace(\"duck\", \"lion\")"
      ],
      "metadata": {
        "colab": {
          "base_uri": "https://localhost:8080/",
          "height": 37
        },
        "id": "89bJCX3gm9la",
        "outputId": "dd16587d-6a7f-4dfd-8abd-fbb9be24ce86"
      },
      "execution_count": null,
      "outputs": [
        {
          "output_type": "execute_result",
          "data": {
            "text/plain": [
              "'a lion walks into a bar'"
            ],
            "application/vnd.google.colaboratory.intrinsic+json": {
              "type": "string"
            }
          },
          "metadata": {},
          "execution_count": 23
        }
      ]
    },
    {
      "cell_type": "code",
      "source": [
        "words = text.split(\" \")\n",
        "print(words, type(words))"
      ],
      "metadata": {
        "colab": {
          "base_uri": "https://localhost:8080/"
        },
        "id": "w5PRsn-pnLcw",
        "outputId": "47b095ae-3565-4a70-e2aa-c530fe36f3ef"
      },
      "execution_count": null,
      "outputs": [
        {
          "output_type": "stream",
          "name": "stdout",
          "text": [
            "['a', 'duck', 'walks', 'into', 'a', 'bar'] <class 'list'>\n"
          ]
        }
      ]
    },
    {
      "cell_type": "code",
      "source": [
        "\" \".join(words)"
      ],
      "metadata": {
        "colab": {
          "base_uri": "https://localhost:8080/",
          "height": 37
        },
        "id": "-2kQwqDDnYBZ",
        "outputId": "dc21b838-662d-41b5-b275-5a91b9ee2c3f"
      },
      "execution_count": null,
      "outputs": [
        {
          "output_type": "execute_result",
          "data": {
            "text/plain": [
              "'a duck walks into a bar'"
            ],
            "application/vnd.google.colaboratory.intrinsic+json": {
              "type": "string"
            }
          },
          "metadata": {},
          "execution_count": 28
        }
      ]
    },
    {
      "cell_type": "code",
      "source": [
        "#data structures\n",
        "#1. list []\n",
        "#2. tuple ()\n",
        "#3. dictionary {}\n",
        "#4. set{unique}"
      ],
      "metadata": {
        "id": "_PH6Q5qhn4-H"
      },
      "execution_count": null,
      "outputs": []
    },
    {
      "cell_type": "code",
      "source": [
        "#List []\n",
        "shopping_items = [\"banana\", \"egg\", \"milk\"]\n",
        "print(shopping_items[0])\n",
        "print(shopping_items[1])\n",
        "print(shopping_items[1:])"
      ],
      "metadata": {
        "colab": {
          "base_uri": "https://localhost:8080/"
        },
        "id": "EYBO0On0orca",
        "outputId": "4b189236-041e-4756-8a76-baa7ed83ff70"
      },
      "execution_count": null,
      "outputs": [
        {
          "output_type": "stream",
          "name": "stdout",
          "text": [
            "banana\n",
            "egg\n",
            "['egg', 'milk']\n"
          ]
        }
      ]
    },
    {
      "cell_type": "code",
      "source": [
        "shopping_items[0] = \"oat milk\"\n",
        "shopping_items[1] = \"whey\"\n",
        "print(shopping_items[0:])"
      ],
      "metadata": {
        "colab": {
          "base_uri": "https://localhost:8080/"
        },
        "id": "_uPnmcLVpU8m",
        "outputId": "2daa67f8-c850-4762-a6dc-26df914a24b2"
      },
      "execution_count": null,
      "outputs": [
        {
          "output_type": "stream",
          "name": "stdout",
          "text": [
            "['oat milk', 'whey', 'milk']\n"
          ]
        }
      ]
    },
    {
      "cell_type": "code",
      "source": [
        "#list medthod\n",
        "shopping_items.append(\"banana\")\n",
        "print(shopping_items)"
      ],
      "metadata": {
        "colab": {
          "base_uri": "https://localhost:8080/"
        },
        "id": "RXqTDH5SrgVv",
        "outputId": "a77d52ed-8d00-48ed-c4e7-eae8ae2d02e7"
      },
      "execution_count": null,
      "outputs": [
        {
          "output_type": "stream",
          "name": "stdout",
          "text": [
            "['oat milk', 'whey', 'milk', 'banana', 'banana']\n"
          ]
        }
      ]
    },
    {
      "cell_type": "code",
      "source": [
        "#sort items\n",
        "shopping_items.sort(reverse = True) #DESC\n",
        "print(shopping_items)"
      ],
      "metadata": {
        "colab": {
          "base_uri": "https://localhost:8080/"
        },
        "id": "_RZq0SEDsL_-",
        "outputId": "7f10ceb4-991b-443e-cccb-50652b229985"
      },
      "execution_count": null,
      "outputs": [
        {
          "output_type": "stream",
          "name": "stdout",
          "text": [
            "['whey', 'oat milk', 'milk', 'banana', 'banana']\n"
          ]
        }
      ]
    },
    {
      "cell_type": "code",
      "source": [
        "def mean(scores):\n",
        "    return sum(scores)/ len(scores)"
      ],
      "metadata": {
        "id": "eXkaKzd8t1LU"
      },
      "execution_count": null,
      "outputs": []
    },
    {
      "cell_type": "code",
      "source": [
        "scores = [75, 86, 88, 90, 95]\n",
        "print(len(scores), sum(scores), min(scores), max(scores), mean(scores))"
      ],
      "metadata": {
        "colab": {
          "base_uri": "https://localhost:8080/"
        },
        "id": "m3cqthANs1JG",
        "outputId": "57b5b7ea-b668-4a2d-cbee-39d23cab342a"
      },
      "execution_count": null,
      "outputs": [
        {
          "output_type": "stream",
          "name": "stdout",
          "text": [
            "5 434 75 95 86.8\n"
          ]
        }
      ]
    },
    {
      "cell_type": "code",
      "source": [
        "sum(scores) / len(scores)"
      ],
      "metadata": {
        "colab": {
          "base_uri": "https://localhost:8080/"
        },
        "id": "sGoTmZw2tZ14",
        "outputId": "d39418d2-06c1-4fd7-d8ff-d730b01f9a49"
      },
      "execution_count": null,
      "outputs": [
        {
          "output_type": "execute_result",
          "data": {
            "text/plain": [
              "86.8"
            ]
          },
          "metadata": {},
          "execution_count": 41
        }
      ]
    },
    {
      "cell_type": "code",
      "source": [
        "shopping_items"
      ],
      "metadata": {
        "colab": {
          "base_uri": "https://localhost:8080/"
        },
        "id": "qS6taMNzuIXb",
        "outputId": "3cb66d01-f1ba-4535-e979-8c78d38dfc6b"
      },
      "execution_count": null,
      "outputs": [
        {
          "output_type": "execute_result",
          "data": {
            "text/plain": [
              "['whey', 'oat milk', 'milk', 'banana', 'banana']"
            ]
          },
          "metadata": {},
          "execution_count": 45
        }
      ]
    },
    {
      "cell_type": "code",
      "source": [
        "#remove items in list\n",
        "shopping_items.pop()\n",
        "shopping_items"
      ],
      "metadata": {
        "colab": {
          "base_uri": "https://localhost:8080/"
        },
        "id": "ILdeDLcpu0mG",
        "outputId": "db454ea7-5bd0-48ce-da12-427330fc0bfd"
      },
      "execution_count": null,
      "outputs": [
        {
          "output_type": "execute_result",
          "data": {
            "text/plain": [
              "['whey', 'oat milk', 'milk']"
            ]
          },
          "metadata": {},
          "execution_count": 47
        }
      ]
    },
    {
      "cell_type": "code",
      "source": [
        "shopping_items.append(\"banana\")\n",
        "shopping_items"
      ],
      "metadata": {
        "colab": {
          "base_uri": "https://localhost:8080/"
        },
        "id": "HbgvA9SwvPbF",
        "outputId": "61375c40-e67c-4912-d058-f5adfeabb9f2"
      },
      "execution_count": null,
      "outputs": [
        {
          "output_type": "execute_result",
          "data": {
            "text/plain": [
              "['whey', 'oat milk', 'banana']"
            ]
          },
          "metadata": {},
          "execution_count": 53
        }
      ]
    },
    {
      "cell_type": "code",
      "source": [
        "shopping_items.remove(\"banana\")\n",
        "shopping_items"
      ],
      "metadata": {
        "colab": {
          "base_uri": "https://localhost:8080/"
        },
        "id": "Pgve17K-vl7f",
        "outputId": "f3e3443b-c8df-49c3-8c2c-775734401d03"
      },
      "execution_count": null,
      "outputs": [
        {
          "output_type": "execute_result",
          "data": {
            "text/plain": [
              "['whey', 'oat milk']"
            ]
          },
          "metadata": {},
          "execution_count": 54
        }
      ]
    },
    {
      "cell_type": "code",
      "source": [
        "#insert items\n",
        "shopping_items.insert(1, \"milk\")"
      ],
      "metadata": {
        "id": "_y8XkhDGwu-a"
      },
      "execution_count": null,
      "outputs": []
    },
    {
      "cell_type": "code",
      "source": [
        "shopping_items"
      ],
      "metadata": {
        "colab": {
          "base_uri": "https://localhost:8080/"
        },
        "id": "M39HvIjlxRCA",
        "outputId": "d00bbfb7-5b56-42db-e350-17c95272309d"
      },
      "execution_count": null,
      "outputs": [
        {
          "output_type": "execute_result",
          "data": {
            "text/plain": [
              "['whey', 'milk', 'oat milk']"
            ]
          },
          "metadata": {},
          "execution_count": 56
        }
      ]
    },
    {
      "cell_type": "code",
      "source": [
        "#list + list\n",
        "item_1 = [\"ham\", \"egg\"]\n",
        "item_2 = [\"banana\", \"melon\"]\n",
        "print(item_1 + item_2)"
      ],
      "metadata": {
        "colab": {
          "base_uri": "https://localhost:8080/"
        },
        "id": "xaNKGX1sxTwB",
        "outputId": "e96dd287-5d42-466b-c4b5-d2078fd93ffe"
      },
      "execution_count": null,
      "outputs": [
        {
          "output_type": "stream",
          "name": "stdout",
          "text": [
            "['ham', 'egg', 'banana', 'melon']\n"
          ]
        }
      ]
    },
    {
      "cell_type": "code",
      "source": [
        "#tuple is immotable not change a variable\n",
        "tup_item = (\"egg\", \"bread\", \"pepsi\")\n",
        "tup_item"
      ],
      "metadata": {
        "id": "CxJWhdmcx8wz",
        "colab": {
          "base_uri": "https://localhost:8080/"
        },
        "outputId": "95316084-374f-49f0-e68d-6a6fd0288509"
      },
      "execution_count": null,
      "outputs": [
        {
          "output_type": "execute_result",
          "data": {
            "text/plain": [
              "('egg', 'bread', 'pepsi')"
            ]
          },
          "metadata": {},
          "execution_count": 1
        }
      ]
    },
    {
      "cell_type": "code",
      "source": [
        "tup_item.count(\"egg\")"
      ],
      "metadata": {
        "colab": {
          "base_uri": "https://localhost:8080/"
        },
        "id": "W1Pv24PkukKh",
        "outputId": "f4a44c57-1b3f-47a1-f6d4-53fee748861c"
      },
      "execution_count": null,
      "outputs": [
        {
          "output_type": "execute_result",
          "data": {
            "text/plain": [
              "1"
            ]
          },
          "metadata": {},
          "execution_count": 3
        }
      ]
    },
    {
      "cell_type": "code",
      "source": [
        "#ex2 username/password\n",
        "#student1 student2\n",
        "s1 = (\"id001\" , \"123\")\n",
        "s2 = (\"id002\", \"345\")\n",
        "user_pw = (s1, s2)\n",
        "print(user_pw)"
      ],
      "metadata": {
        "colab": {
          "base_uri": "https://localhost:8080/"
        },
        "id": "mNqKyc2Vu15c",
        "outputId": "3e404e2c-6863-4ffd-8038-59752b20672d"
      },
      "execution_count": null,
      "outputs": [
        {
          "output_type": "stream",
          "name": "stdout",
          "text": [
            "(('id001', '123'), ('id002', '345'))\n"
          ]
        }
      ]
    },
    {
      "cell_type": "code",
      "source": [
        "#tuple unpacking\n",
        "username , password = s1\n",
        "\n",
        "print(username, password)"
      ],
      "metadata": {
        "colab": {
          "base_uri": "https://localhost:8080/"
        },
        "id": "Q0HcYHnUvzYC",
        "outputId": "7da1a5fe-a184-47d0-eaa5-bf39462729c1"
      },
      "execution_count": null,
      "outputs": [
        {
          "output_type": "stream",
          "name": "stdout",
          "text": [
            "id001 123\n"
          ]
        }
      ]
    },
    {
      "cell_type": "code",
      "source": [
        "#unpacking 3values\n",
        "name, age, gpa = (\"turbo\", 26, 2.99)\n",
        "print(name, age, gpa)"
      ],
      "metadata": {
        "id": "Ejn3Zp3YwOa6",
        "colab": {
          "base_uri": "https://localhost:8080/"
        },
        "outputId": "e3b77fad-ac18-41bc-caba-c3e4ae051d12"
      },
      "execution_count": null,
      "outputs": [
        {
          "output_type": "stream",
          "name": "stdout",
          "text": [
            "turbo 26 2.99\n"
          ]
        }
      ]
    },
    {
      "cell_type": "code",
      "source": [
        "#ex2 unpacking 3values\n",
        "name, age, _ = (\"king\", 13, 3.75)\n",
        "print(name, age)"
      ],
      "metadata": {
        "colab": {
          "base_uri": "https://localhost:8080/"
        },
        "id": "OGIL6Lg47hKo",
        "outputId": "b411e936-cb06-420f-a58d-552944fd4194"
      },
      "execution_count": null,
      "outputs": [
        {
          "output_type": "stream",
          "name": "stdout",
          "text": [
            "king 13\n"
          ]
        }
      ]
    },
    {
      "cell_type": "code",
      "source": [
        "##set {unique} case sensitive R != r\n",
        "courses = {\"R\", \"SQL\", \"Python\", \"SQL\", \"sql\"}\n",
        "set(courses)"
      ],
      "metadata": {
        "colab": {
          "base_uri": "https://localhost:8080/"
        },
        "id": "wpueVsiw8H4G",
        "outputId": "7deaa836-138a-4c61-a2f2-9829e4c34744"
      },
      "execution_count": null,
      "outputs": [
        {
          "output_type": "execute_result",
          "data": {
            "text/plain": [
              "{'Python', 'R', 'SQL', 'sql'}"
            ]
          },
          "metadata": {},
          "execution_count": 4
        }
      ]
    },
    {
      "cell_type": "code",
      "source": [
        "##dictionary value pairs :\n",
        "courses = {\n",
        "    \"name\": \"Data Science\",\n",
        "    \"duration\": \"4 months\",\n",
        "    \"students\": 200,\n",
        "    \"replay\": True,\n",
        "    \"skill\": [\"SQL\", \"dashboard\", \"Python\", \"ML\", \"google sheets\"]\n",
        "}"
      ],
      "metadata": {
        "id": "Za7dbdCA82CF"
      },
      "execution_count": null,
      "outputs": []
    },
    {
      "cell_type": "code",
      "source": [
        "courses[\"skill\"]"
      ],
      "metadata": {
        "colab": {
          "base_uri": "https://localhost:8080/"
        },
        "id": "-562Ftt5-RUN",
        "outputId": "b3faab6c-32f0-4dbf-d6fc-4869872db545"
      },
      "execution_count": null,
      "outputs": [
        {
          "output_type": "execute_result",
          "data": {
            "text/plain": [
              "['SQL', 'dashboard', 'Python', 'ML', 'google sheets']"
            ]
          },
          "metadata": {},
          "execution_count": 9
        }
      ]
    },
    {
      "cell_type": "code",
      "source": [
        "#add dictionry valeu\n",
        "courses[\"start_time\"] = \"9am\"\n",
        "\n",
        "courses[\"language\"] = \"thai\""
      ],
      "metadata": {
        "id": "nCpqncJK-byz"
      },
      "execution_count": null,
      "outputs": []
    },
    {
      "cell_type": "code",
      "source": [
        "courses"
      ],
      "metadata": {
        "colab": {
          "base_uri": "https://localhost:8080/"
        },
        "id": "yxW3IFI0_L08",
        "outputId": "ee80f5d0-8fa0-40e8-8153-fef6e593e5d5"
      },
      "execution_count": null,
      "outputs": [
        {
          "output_type": "execute_result",
          "data": {
            "text/plain": [
              "{'name': 'Data Science',\n",
              " 'duration': '4 months',\n",
              " 'students': 200,\n",
              " 'replay': True,\n",
              " 'skill': ['SQL', 'dashboard', 'Python', 'ML', 'google sheets'],\n",
              " 'start_time': '9am',\n",
              " 'language': 'thai'}"
            ]
          },
          "metadata": {},
          "execution_count": 14
        }
      ]
    },
    {
      "cell_type": "code",
      "source": [
        "del courses [\"language\"]"
      ],
      "metadata": {
        "colab": {
          "base_uri": "https://localhost:8080/",
          "height": 198
        },
        "id": "1nmXacIi_PbC",
        "outputId": "af85a0de-37e3-48f2-f45d-c7eb707177ff"
      },
      "execution_count": null,
      "outputs": [
        {
          "output_type": "error",
          "ename": "KeyError",
          "evalue": "ignored",
          "traceback": [
            "\u001b[0;31m---------------------------------------------------------------------------\u001b[0m",
            "\u001b[0;31mKeyError\u001b[0m                                  Traceback (most recent call last)",
            "\u001b[0;32m<ipython-input-16-778ba7ded776>\u001b[0m in \u001b[0;36m<cell line: 1>\u001b[0;34m()\u001b[0m\n\u001b[0;32m----> 1\u001b[0;31m \u001b[0;32mdel\u001b[0m \u001b[0mcourses\u001b[0m \u001b[0;34m[\u001b[0m\u001b[0;34m\"language\"\u001b[0m\u001b[0;34m]\u001b[0m\u001b[0;34m\u001b[0m\u001b[0;34m\u001b[0m\u001b[0m\n\u001b[0m\u001b[1;32m      2\u001b[0m \u001b[0;34m\u001b[0m\u001b[0m\n\u001b[1;32m      3\u001b[0m \u001b[0mcourses\u001b[0m\u001b[0;34m\u001b[0m\u001b[0;34m\u001b[0m\u001b[0m\n",
            "\u001b[0;31mKeyError\u001b[0m: 'language'"
          ]
        }
      ]
    },
    {
      "cell_type": "code",
      "source": [
        "courses"
      ],
      "metadata": {
        "colab": {
          "base_uri": "https://localhost:8080/"
        },
        "id": "4Aw_Y7P__xiE",
        "outputId": "8dfa4b53-77fc-4de5-e16b-04718831c6a1"
      },
      "execution_count": null,
      "outputs": [
        {
          "output_type": "execute_result",
          "data": {
            "text/plain": [
              "{'name': 'Data Science',\n",
              " 'duration': '4 months',\n",
              " 'students': 200,\n",
              " 'replay': True,\n",
              " 'skill': ['SQL', 'dashboard', 'Python', 'ML', 'google sheets'],\n",
              " 'start_time': '9am'}"
            ]
          },
          "metadata": {},
          "execution_count": 17
        }
      ]
    },
    {
      "cell_type": "code",
      "source": [
        "list(courses.keys())"
      ],
      "metadata": {
        "colab": {
          "base_uri": "https://localhost:8080/"
        },
        "id": "3MNJaUha_5Dl",
        "outputId": "36fb4d10-4279-4711-ef40-9970d5b978cf"
      },
      "execution_count": null,
      "outputs": [
        {
          "output_type": "execute_result",
          "data": {
            "text/plain": [
              "['name', 'duration', 'students', 'replay', 'skill', 'start_time']"
            ]
          },
          "metadata": {},
          "execution_count": 20
        }
      ]
    },
    {
      "cell_type": "code",
      "source": [
        "list(courses.values())"
      ],
      "metadata": {
        "colab": {
          "base_uri": "https://localhost:8080/"
        },
        "id": "5tsUlFv2ApQK",
        "outputId": "5eba4132-a3da-4942-cc2d-0e7285227be5"
      },
      "execution_count": null,
      "outputs": [
        {
          "output_type": "execute_result",
          "data": {
            "text/plain": [
              "['Data Science',\n",
              " '4 months',\n",
              " 200,\n",
              " True,\n",
              " ['SQL', 'dashboard', 'Python', 'ML', 'google sheets'],\n",
              " '9am']"
            ]
          },
          "metadata": {},
          "execution_count": 21
        }
      ]
    },
    {
      "cell_type": "code",
      "source": [
        "courses.items()"
      ],
      "metadata": {
        "colab": {
          "base_uri": "https://localhost:8080/"
        },
        "id": "--WxRGqGBPk-",
        "outputId": "e722177b-20f5-4a43-8ae3-a6e068680351"
      },
      "execution_count": null,
      "outputs": [
        {
          "output_type": "execute_result",
          "data": {
            "text/plain": [
              "dict_items([('name', 'Data Science'), ('duration', '4 months'), ('students', 200), ('replay', True), ('skill', ['SQL', 'dashboard', 'Python', 'ML', 'google sheets']), ('start_time', '9am')])"
            ]
          },
          "metadata": {},
          "execution_count": 22
        }
      ]
    },
    {
      "cell_type": "code",
      "source": [
        "#.get protect the error\n",
        "courses.get(\"replay\")"
      ],
      "metadata": {
        "colab": {
          "base_uri": "https://localhost:8080/"
        },
        "id": "RK883JySBYa3",
        "outputId": "1f6121cb-d517-45b2-d3d3-28123e771d2a"
      },
      "execution_count": null,
      "outputs": [
        {
          "output_type": "execute_result",
          "data": {
            "text/plain": [
              "True"
            ]
          },
          "metadata": {},
          "execution_count": 24
        }
      ]
    },
    {
      "cell_type": "code",
      "source": [
        "#recap\n",
        "#list, dictionary => mutable\n",
        "#tuple, string => immutable"
      ],
      "metadata": {
        "id": "i2BZTftaBiVw"
      },
      "execution_count": null,
      "outputs": []
    },
    {
      "cell_type": "code",
      "source": [
        "##control flow##\n",
        "#if for while"
      ],
      "metadata": {
        "id": "1FZJsMIZCE-a"
      },
      "execution_count": null,
      "outputs": []
    },
    {
      "cell_type": "code",
      "source": [
        "#final exam 150 qusetions ,pass >= 120\n",
        "def grade(score):\n",
        "    if score >= 120:\n",
        "        return(\"Excellent\")\n",
        "    elif score >= 100:\n",
        "        return(\"Good\")\n",
        "    elif score >= 80:\n",
        "        return(\"Okay\")\n",
        "    else :\n",
        "        return(\"Need read to more\")"
      ],
      "metadata": {
        "id": "-mwIkBY7CQYV"
      },
      "execution_count": null,
      "outputs": []
    },
    {
      "cell_type": "code",
      "source": [
        "result = grade(120)\n",
        "print(result)"
      ],
      "metadata": {
        "colab": {
          "base_uri": "https://localhost:8080/"
        },
        "id": "7CT_epcbDU6N",
        "outputId": "431017da-5731-4512-ebd3-723858930ac0"
      },
      "execution_count": null,
      "outputs": [
        {
          "output_type": "stream",
          "name": "stdout",
          "text": [
            "Excellent\n"
          ]
        }
      ]
    },
    {
      "cell_type": "code",
      "source": [
        "#use \"and\" \"or\" in consition\n",
        "def grade(course, score):\n",
        "    if course == \"data science\" and score >= 80:\n",
        "        return(\"passed\")\n",
        "    elif course == \"english\" and score >=70:\n",
        "        return(\"passed\")\n",
        "    else:\n",
        "        return(\"failed\")"
      ],
      "metadata": {
        "id": "0PbCRZbWDXpp"
      },
      "execution_count": null,
      "outputs": []
    },
    {
      "cell_type": "code",
      "source": [
        "grade(\"english\", 69)"
      ],
      "metadata": {
        "colab": {
          "base_uri": "https://localhost:8080/",
          "height": 37
        },
        "id": "luz-YnxVGu0L",
        "outputId": "ed1c2911-ffbb-4ed7-9f84-bce28311606f"
      },
      "execution_count": null,
      "outputs": [
        {
          "output_type": "execute_result",
          "data": {
            "text/plain": [
              "'failed'"
            ],
            "application/vnd.google.colaboratory.intrinsic+json": {
              "type": "string"
            }
          },
          "metadata": {},
          "execution_count": 50
        }
      ]
    },
    {
      "cell_type": "code",
      "source": [
        "##for loop []\n",
        "#if score >= 80 ,passed\n",
        "scores = [79, 88, 89, 95]\n",
        "new_scores = []\n",
        "for score in scores:\n",
        "    new_scores.append(score-2)\n",
        "\n",
        "print(new_scores)"
      ],
      "metadata": {
        "colab": {
          "base_uri": "https://localhost:8080/"
        },
        "id": "ACuGOqI1G7nD",
        "outputId": "45619c26-8756-48a4-bdb9-5c43d340ed2e"
      },
      "execution_count": null,
      "outputs": [
        {
          "output_type": "stream",
          "name": "stdout",
          "text": [
            "[77, 86, 87, 93]\n"
          ]
        }
      ]
    },
    {
      "cell_type": "code",
      "source": [
        "#ex\"2 for loop[]\n",
        "def grading(scores):\n",
        "    new_scores = []\n",
        "    for score in scores:\n",
        "        new_scores.append(score-1)\n",
        "    return(new_scores)"
      ],
      "metadata": {
        "id": "BZB5dGRDUacr"
      },
      "execution_count": null,
      "outputs": []
    },
    {
      "cell_type": "code",
      "source": [
        "grading([70, 80, 90, 100])"
      ],
      "metadata": {
        "colab": {
          "base_uri": "https://localhost:8080/"
        },
        "id": "E5HJypTwWEE1",
        "outputId": "21a3250c-e7bc-4af0-eade-e9140741ddf4"
      },
      "execution_count": null,
      "outputs": [
        {
          "output_type": "execute_result",
          "data": {
            "text/plain": [
              "[69, 79, 89, 99]"
            ]
          },
          "metadata": {},
          "execution_count": 67
        }
      ]
    },
    {
      "cell_type": "code",
      "source": [
        "#list comprehension\n"
      ],
      "metadata": {
        "id": "JnzCY8eeWPe0"
      },
      "execution_count": null,
      "outputs": []
    }
  ]
}
