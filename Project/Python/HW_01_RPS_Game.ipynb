{
  "nbformat": 4,
  "nbformat_minor": 0,
  "metadata": {
    "colab": {
      "provenance": [],
      "authorship_tag": "ABX9TyM3pYD+8dzg4eOJ13J1lnKc",
      "include_colab_link": true
    },
    "kernelspec": {
      "name": "python3",
      "display_name": "Python 3"
    },
    "language_info": {
      "name": "python"
    }
  },
  "cells": [
    {
      "cell_type": "markdown",
      "metadata": {
        "id": "view-in-github",
        "colab_type": "text"
      },
      "source": [
        "<a href=\"https://colab.research.google.com/github/thanapatbo/Data-science-bootcamp8/blob/main/HW_01_RPS_Game.ipynb\" target=\"_parent\"><img src=\"https://colab.research.google.com/assets/colab-badge.svg\" alt=\"Open In Colab\"/></a>"
      ]
    },
    {
      "cell_type": "code",
      "execution_count": null,
      "metadata": {
        "id": "Kj1x9NObKM4G"
      },
      "outputs": [],
      "source": [
        "## create rps_game\n",
        "\n",
        "import random\n",
        "\n",
        "def rps_game ():\n",
        "    user_name = input(\"What is your name? \")\n",
        "    print(f\"Hi! {user_name} , Welcome to RPS game again.\")\n",
        "    print(\"Let's play RPS game !!\")\n",
        "    print(\"Choose your choice r = Rock, p = Paper, s = scissors\")\n",
        "    print(\"If you want to Quit select q = Quit \")\n",
        "    user_score = 0\n",
        "    com_score = 0\n",
        "    while True :\n",
        "        choice_game = [\"r\", \"p\", \"s\"]\n",
        "        com_play = random.choice(choice_game)\n",
        "        user_ans = input(\"Choose your choice : \")\n",
        "        if com_play == user_ans:\n",
        "            print(\"Tie!!\")\n",
        "            user_score += 1\n",
        "            com_score += 1\n",
        "        elif user_ans == \"r\" :\n",
        "            if com_play == \"s\" :\n",
        "                print(\"You win!\")\n",
        "                user_score += 1\n",
        "            else :\n",
        "                print(\"You lose pls try agian :P\")\n",
        "                com_score += 1\n",
        "        elif user_ans == \"p\" :\n",
        "            if com_play == \"r\" :\n",
        "                print(\"You win!\")\n",
        "                user_score += 1\n",
        "            else :\n",
        "                print(\"You lose pls try agian :P\")\n",
        "                com_score += 1\n",
        "        elif user_ans == \"s\" :\n",
        "            if com_play == \"p\" :\n",
        "                print(\"You Win!\")\n",
        "                user_score += 1\n",
        "            else :\n",
        "                print(\"You lose pls try agian :P\")\n",
        "                com_score += 1\n",
        "        elif user_ans == \"q\" :\n",
        "            print(f\"You score : {user_score} \")\n",
        "            print(f\"Com score : {com_score} \")\n",
        "            if user_score > com_score :\n",
        "                print(\"The Legend of RPS Game!!\")\n",
        "            elif user_score == com_score :\n",
        "                print(\"Tie this game Let's play again\")\n",
        "            else :\n",
        "                print(\"You Lose!\")\n",
        "            print(\"See you again naxt game!\")\n",
        "            break\n",
        "        else :\n",
        "            print(\"Plase try again! check your answer.\")\n",
        "\n",
        "\n"
      ]
    },
    {
      "cell_type": "code",
      "source": [
        "rps_game()"
      ],
      "metadata": {
        "id": "K22hUAugNVGG",
        "outputId": "f348ed32-dbbc-4d12-c609-50da0ceb5ed0",
        "colab": {
          "base_uri": "https://localhost:8080/"
        }
      },
      "execution_count": null,
      "outputs": [
        {
          "output_type": "stream",
          "name": "stdout",
          "text": [
            "What is your name? turbo\n",
            "Hi! turbo , Welcome to RPS game again.\n",
            "Let's play RPS game !!\n",
            "Choose your choice r = Rock, p = Paper, s = scissors\n",
            "If you want to Quit select q = Quit \n",
            "Choose your choice : q\n",
            "You score : 0 \n",
            "Com score : 0 \n",
            "Tie this game Let's play again\n",
            "See you again naxt game!\n"
          ]
        }
      ]
    },
    {
      "cell_type": "code",
      "source": [],
      "metadata": {
        "id": "yH_1c945NXXu"
      },
      "execution_count": null,
      "outputs": []
    }
  ]
}
