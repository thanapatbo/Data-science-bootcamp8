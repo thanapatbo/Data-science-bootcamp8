{
  "nbformat": 4,
  "nbformat_minor": 0,
  "metadata": {
    "colab": {
      "provenance": [],
      "authorship_tag": "ABX9TyMp6hWPHsctO76F4/bjSs4N",
      "include_colab_link": true
    },
    "kernelspec": {
      "name": "python3",
      "display_name": "Python 3"
    },
    "language_info": {
      "name": "python"
    }
  },
  "cells": [
    {
      "cell_type": "markdown",
      "metadata": {
        "id": "view-in-github",
        "colab_type": "text"
      },
      "source": [
        "<a href=\"https://colab.research.google.com/github/thanapatbo/Data-science-bootcamp8/blob/main/HM02_OOP_ATM_class.ipynb\" target=\"_parent\"><img src=\"https://colab.research.google.com/assets/colab-badge.svg\" alt=\"Open In Colab\"/></a>"
      ]
    },
    {
      "cell_type": "code",
      "execution_count": 1,
      "metadata": {
        "id": "Yn2pNNT5ngAV"
      },
      "outputs": [],
      "source": [
        "## Class ATM 5 Methods\n",
        "## 1. Deposit\n",
        "## 2. Withdraw\n",
        "## 3. Cashless Withdraw\n",
        "## 4. Transfer\n",
        "## 5. Check Balance"
      ]
    },
    {
      "cell_type": "code",
      "source": [
        "## Install package for qrcode\n",
        "!pip install qrcode"
      ],
      "metadata": {
        "colab": {
          "base_uri": "https://localhost:8080/"
        },
        "id": "p7_FxeB2O6bC",
        "outputId": "7dcdc8bd-bb58-4712-cbdf-e8b7e3b6e75e"
      },
      "execution_count": 2,
      "outputs": [
        {
          "output_type": "stream",
          "name": "stdout",
          "text": [
            "Collecting qrcode\n",
            "  Downloading qrcode-7.4.2-py3-none-any.whl (46 kB)\n",
            "\u001b[?25l     \u001b[90m━━━━━━━━━━━━━━━━━━━━━━━━━━━━━━━━━━━━━━━━\u001b[0m \u001b[32m0.0/46.2 kB\u001b[0m \u001b[31m?\u001b[0m eta \u001b[36m-:--:--\u001b[0m\r\u001b[2K     \u001b[90m━━━━━━━━━━━━━━━━━━━━━━━━━━━━━━━━━━━━━━━━\u001b[0m \u001b[32m46.2/46.2 kB\u001b[0m \u001b[31m1.9 MB/s\u001b[0m eta \u001b[36m0:00:00\u001b[0m\n",
            "\u001b[?25hRequirement already satisfied: typing-extensions in /usr/local/lib/python3.10/dist-packages (from qrcode) (4.5.0)\n",
            "Collecting pypng (from qrcode)\n",
            "  Downloading pypng-0.20220715.0-py3-none-any.whl (58 kB)\n",
            "\u001b[?25l     \u001b[90m━━━━━━━━━━━━━━━━━━━━━━━━━━━━━━━━━━━━━━━━\u001b[0m \u001b[32m0.0/58.1 kB\u001b[0m \u001b[31m?\u001b[0m eta \u001b[36m-:--:--\u001b[0m\r\u001b[2K     \u001b[90m━━━━━━━━━━━━━━━━━━━━━━━━━━━━━━━━━━━━━━━━\u001b[0m \u001b[32m58.1/58.1 kB\u001b[0m \u001b[31m4.9 MB/s\u001b[0m eta \u001b[36m0:00:00\u001b[0m\n",
            "\u001b[?25hInstalling collected packages: pypng, qrcode\n",
            "Successfully installed pypng-0.20220715.0 qrcode-7.4.2\n"
          ]
        }
      ]
    },
    {
      "cell_type": "code",
      "source": [
        "import qrcode\n",
        "import random\n",
        "import skimage.io as io"
      ],
      "metadata": {
        "id": "anZFccDDY7Be"
      },
      "execution_count": 3,
      "outputs": []
    },
    {
      "cell_type": "code",
      "source": [
        "## Class ATM 5 Attribute, 5 Methods\n",
        "class ATM :\n",
        "    def __init__(self, acc_name, acc_bank, acc_branch, acc_number, balance=0) :\n",
        "        self.acc_name = acc_name\n",
        "        self.acc_bank = acc_bank\n",
        "        self.acc_branch = acc_branch\n",
        "        self.acc_number = acc_number\n",
        "        self.balance = balance\n",
        "\n",
        "    def insert_card(self):\n",
        "        print(\"Insert your debit card enter your PIN\")\n",
        "\n",
        "    def deposit(self, amount):\n",
        "        print(\"Do you want to deposit this account?\")\n",
        "        ans_user = input(\"Y/N : \")\n",
        "        if ans_user == \"Y\" :\n",
        "            print(\"Please insert your cash into the doposi slot.\")\n",
        "            print(f\"Please comfirm the deposit : {amount}.\")\n",
        "            ans_user = input(\"Y/N : \")\n",
        "            if ans_user == \"Y\":\n",
        "                self.balance += amount\n",
        "                print(\"Thank you, Please wait for receipt.\")\n",
        "            else :\n",
        "                print(\"Please try again.\")\n",
        "        else:\n",
        "            other_acc = input(f\"Please fill Beneficiary No : \" )\n",
        "            print(f\"Do you want to deposit account {other_acc} ?\")\n",
        "            ans_user = input(\"Y/N : \")\n",
        "            if ans_user == \"Y\" :\n",
        "                print(\"Please insert your cash into the deposit slot.\")\n",
        "                print(f\"Please comfirm the deposit : {amount}.\")\n",
        "                ans_user = input(\"Y/N : \")\n",
        "                if ans_user == \"Y\":\n",
        "                    self.balance += amount\n",
        "                    print(\"Thank you, Please wait for receipt.\")\n",
        "                else :\n",
        "                    print(\"Please try again.\")\n",
        "            else:\n",
        "                print(\"Please make a list again.\")\n",
        "\n",
        "    def withdraw(self, amount):\n",
        "        tranc = input(\"Enter the amount of money you want to withdraw: \")\n",
        "        print(f\"Do you want to withdraw {tranc} Bath?\")\n",
        "        ans_user = input(\"Please review transaction and press Y to comfirm : \")\n",
        "        if ans_user == \"Y\":\n",
        "            self.balance -= amount\n",
        "            print(\"Collect your cash and receipt.\")\n",
        "        else :\n",
        "            print(\"Please make a list again.\")\n",
        "\n",
        "    def cashless_withd(self, amount):\n",
        "        ans_user = input(\"Do you want to cashless withdraw ? Y/N : \")\n",
        "        if ans_user == \"Y\":\n",
        "            print(\"Please scan the QR code to withdraw cash.\")\n",
        "            data = \"https://github.com/thanapatbo\"\n",
        "            qr = qrcode.QRCode(version =1,box_size = 10,border = 5)\n",
        "            qr.add_data(data)\n",
        "            qr.make(fit = True)\n",
        "            img = qr.make_image(fill_color = \"darkblue\",back_color = \"yellow\")\n",
        "            img.save(\"QR_trans.png\")\n",
        "            qrimg = io.imread(\"QR_trans.png\")\n",
        "            io.imshow(qrimg)\n",
        "            self.balance -= amount\n",
        "            print(\"Collect your cash and receipt.\")\n",
        "        else :\n",
        "            print(\"Please make a list again.\")\n",
        "\n",
        "    def tranfer(self, amount):\n",
        "        acc = []\n",
        "        for i in range(13):\n",
        "            message = \"Please fill Beneficiary No : \"\n",
        "        acc_tranf = input(message)\n",
        "        if len(acc_tranf) != 13:\n",
        "            raise ValueError(\"Please check your account number.\")\n",
        "        acc.append(acc_tranf)\n",
        "        print(f\"Do you want transfer to account number : {acc}\")\n",
        "        ans_user = input(\"Please review transaction and press Y to comfirm : \")\n",
        "        if ans_user == \"Y\":\n",
        "            self.balance -= amount\n",
        "            msn = f\"DO you to transfer {amount} Bath? Please press Y to comfirm :\"\n",
        "            ans_user = input(msn)\n",
        "            if ans_user == \"Y\":\n",
        "                print(\"Thank you\")\n",
        "            else:\n",
        "                print(\"Please make a list again.\")\n",
        "        else:\n",
        "            print(\"Please make a list again.\")"
      ],
      "metadata": {
        "id": "V9C7SsFrZliE"
      },
      "execution_count": 4,
      "outputs": []
    },
    {
      "cell_type": "code",
      "source": [
        "acc1 = ATM(\"thanapat\", \"KBANK\", \"BKK\", \"123456\", 100000)"
      ],
      "metadata": {
        "id": "NJSd7Nlyzs-H"
      },
      "execution_count": 5,
      "outputs": []
    },
    {
      "cell_type": "code",
      "source": [
        "acc1.deposit(1000)"
      ],
      "metadata": {
        "colab": {
          "base_uri": "https://localhost:8080/"
        },
        "id": "kWH5xPqo0Nu8",
        "outputId": "53653ea7-b3dd-4028-80af-b0f97e3395ad"
      },
      "execution_count": 6,
      "outputs": [
        {
          "output_type": "stream",
          "name": "stdout",
          "text": [
            "Do you want to deposit this account?\n",
            "Y/N : Y\n",
            "Please insert your cash into the doposi slot.\n",
            "Please comfirm the deposit : 1000.\n",
            "Y/N : Y\n",
            "Thank you, Please wait for receipt.\n"
          ]
        }
      ]
    },
    {
      "cell_type": "code",
      "source": [
        "acc1.withdraw(500)"
      ],
      "metadata": {
        "id": "RS1SrgCE3PuK",
        "colab": {
          "base_uri": "https://localhost:8080/"
        },
        "outputId": "b1983dfb-beb4-4b81-c1ad-0e412d49f790"
      },
      "execution_count": 7,
      "outputs": [
        {
          "output_type": "stream",
          "name": "stdout",
          "text": [
            "Enter the amount of money you want to withdraw: 500\n",
            "Do you want to withdraw 500 Bath?\n",
            "Please review transaction and press Y to comfirm : Y\n",
            "Collect your cash and receipt.\n"
          ]
        }
      ]
    },
    {
      "cell_type": "code",
      "source": [
        "acc1.cashless_withd(2000)"
      ],
      "metadata": {
        "colab": {
          "base_uri": "https://localhost:8080/",
          "height": 538
        },
        "id": "3ZoyN3E02OBp",
        "outputId": "562d0b5e-f4ca-417b-d597-52d5bea00098"
      },
      "execution_count": 8,
      "outputs": [
        {
          "output_type": "stream",
          "name": "stdout",
          "text": [
            "Do you want to cashless withdraw ? Y/N : Y\n",
            "Please scan the QR code to withdraw cash.\n",
            "Collect your cash and receipt.\n"
          ]
        },
        {
          "output_type": "display_data",
          "data": {
            "text/plain": [
              "<Figure size 640x480 with 1 Axes>"
            ],
            "image/png": "[encoded data removed]"
          },
          "metadata": {}
        }
      ]
    },
    {
      "cell_type": "code",
      "source": [
        "acc1.tranfer(500)"
      ],
      "metadata": {
        "id": "tbcl1xft4HMm",
        "colab": {
          "base_uri": "https://localhost:8080/"
        },
        "outputId": "608152af-de91-4442-de56-39deb387ea41"
      },
      "execution_count": 10,
      "outputs": [
        {
          "output_type": "stream",
          "name": "stdout",
          "text": [
            "Please fill Beneficiary No : 1234567890111\n",
            "Do you want transfer to account number : ['1234567890111']\n",
            "Please review transaction and press Y to comfirm : Y\n",
            "DO you to transfer 500 Bath? Please press Y to comfirm :Y\n",
            "Thank you\n"
          ]
        }
      ]
    },
    {
      "cell_type": "code",
      "source": [
        "acc1.balance"
      ],
      "metadata": {
        "colab": {
          "base_uri": "https://localhost:8080/"
        },
        "id": "Dxr-ZqUzEME9",
        "outputId": "1e8fbd0e-4552-42d9-c289-15fb9146c01d"
      },
      "execution_count": 12,
      "outputs": [
        {
          "output_type": "execute_result",
          "data": {
            "text/plain": [
              "98000"
            ]
          },
          "metadata": {},
          "execution_count": 12
        }
      ]
    },
    {
      "cell_type": "code",
      "source": [],
      "metadata": {
        "id": "wJVQu07aESn1"
      },
      "execution_count": null,
      "outputs": []
    }
  ]
}
