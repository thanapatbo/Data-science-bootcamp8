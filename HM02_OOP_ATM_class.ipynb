{
  "nbformat": 4,
  "nbformat_minor": 0,
  "metadata": {
    "colab": {
      "provenance": [],
      "authorship_tag": "ABX9TyM1viZ0ut7lc3k1LxEXKn7o",
      "include_colab_link": true
    },
    "kernelspec": {
      "name": "python3",
      "display_name": "Python 3"
    },
    "language_info": {
      "name": "python"
    }
  },
  "cells": [
    {
      "cell_type": "markdown",
      "metadata": {
        "id": "view-in-github",
        "colab_type": "text"
      },
      "source": [
        "<a href=\"https://colab.research.google.com/github/thanapatbo/Data-science-bootcamp8/blob/main/HM02_OOP_ATM_class.ipynb\" target=\"_parent\"><img src=\"https://colab.research.google.com/assets/colab-badge.svg\" alt=\"Open In Colab\"/></a>"
      ]
    },
    {
      "cell_type": "code",
      "execution_count": null,
      "metadata": {
        "id": "Yn2pNNT5ngAV"
      },
      "outputs": [],
      "source": [
        "## Class ATM 5 Methods\n",
        "## 1. Deposit\n",
        "## 2. Withdraw\n",
        "## 3. Cashless Withdraw\n",
        "## 4. Transfer\n",
        "## 5. Check Balance\n",
        "## 6. Pay Bills\n",
        "## 7. insert card and inject card"
      ]
    },
    {
      "cell_type": "code",
      "source": [
        "## Install package for qrcode\n",
        "!pip install qrcode"
      ],
      "metadata": {
        "colab": {
          "base_uri": "https://localhost:8080/"
        },
        "id": "p7_FxeB2O6bC",
        "outputId": "ec20a31d-2ca7-4a89-aecd-a4841667a7dc"
      },
      "execution_count": 7,
      "outputs": [
        {
          "output_type": "stream",
          "name": "stdout",
          "text": [
            "Collecting qrcode\n",
            "  Downloading qrcode-7.4.2-py3-none-any.whl (46 kB)\n",
            "\u001b[2K     \u001b[90m━━━━━━━━━━━━━━━━━━━━━━━━━━━━━━━━━━━━━━━━\u001b[0m \u001b[32m46.2/46.2 kB\u001b[0m \u001b[31m1.3 MB/s\u001b[0m eta \u001b[36m0:00:00\u001b[0m\n",
            "\u001b[?25hRequirement already satisfied: typing-extensions in /usr/local/lib/python3.10/dist-packages (from qrcode) (4.5.0)\n",
            "Collecting pypng (from qrcode)\n",
            "  Downloading pypng-0.20220715.0-py3-none-any.whl (58 kB)\n",
            "\u001b[2K     \u001b[90m━━━━━━━━━━━━━━━━━━━━━━━━━━━━━━━━━━━━━━━━\u001b[0m \u001b[32m58.1/58.1 kB\u001b[0m \u001b[31m4.1 MB/s\u001b[0m eta \u001b[36m0:00:00\u001b[0m\n",
            "\u001b[?25hInstalling collected packages: pypng, qrcode\n",
            "Successfully installed pypng-0.20220715.0 qrcode-7.4.2\n"
          ]
        }
      ]
    },
    {
      "cell_type": "code",
      "source": [
        "import qrcode\n",
        "import random\n",
        "from PIL import Image"
      ],
      "metadata": {
        "id": "anZFccDDY7Be"
      },
      "execution_count": 22,
      "outputs": []
    },
    {
      "cell_type": "code",
      "source": [
        "## Class ATM 5 Attribute, 5 Methods\n",
        "class ATM :\n",
        "    def __init__(self, acc_name, acc_bank, acc_branch, acc_number, balance=0) :\n",
        "        self.acc_name = acc_name\n",
        "        self.acc_bank = acc_bank\n",
        "        self.acc_branch = acc_branch\n",
        "        self.acc_number = acc_number\n",
        "        self.balance = balance\n",
        "\n",
        "    def insert_card(self):\n",
        "        print(\"Insert your debit card enter your PIN\")\n",
        "\n",
        "    def deposit(self, amount):\n",
        "        print(\"Do you want to deposit this account?\")\n",
        "        ans_user = input(\"Y/N : \")\n",
        "        if ans_user == \"Y\" :\n",
        "            print(\"Please insert your cash into the doposi slot.\")\n",
        "            print(f\"Please comfirm the deposit : {amount}.\")\n",
        "            ans_user = input(\"Y/N : \")\n",
        "            if ans_user == \"Y\":\n",
        "                self.balance += amount\n",
        "                print(\"Thank you, Please wait for receipt.\")\n",
        "            else :\n",
        "                print(\"Please try again.\")\n",
        "        else:\n",
        "            other_acc = input(f\"Please fill Beneficiary No : \" )\n",
        "            print(f\"Do you want to deposit account {other_acc} ?\")\n",
        "            ans_user = input(\"Y/N : \")\n",
        "            if ans_user == \"Y\" :\n",
        "                print(\"Please insert your cash into the doposi slot.\")\n",
        "                print(f\"Please comfirm the deposit : {amount}.\")\n",
        "                ans_user = input(\"Y/N : \")\n",
        "                if ans_user == \"Y\":\n",
        "                    self.balance += amount\n",
        "                    print(\"Thank you, Please wait for receipt.\")\n",
        "                else :\n",
        "                    print(\"Please try again.\")\n",
        "            else:\n",
        "                print(\"Please make a list again.\")\n",
        "\n",
        "    def withdraw(self, amount):\n",
        "        tranc = input(\"Enter the amount of money you want to withdraw: \")\n",
        "        print(f\"Do you want to withdraw {tranc} Bath?\")\n",
        "        ans_user = input(\"Please review transaction and press Y to comfirm : \")\n",
        "        if ans_user == \"Y\":\n",
        "            self.balance -= amount\n",
        "            print(\"Collect your cash and receipt.\")\n",
        "        else :\n",
        "            print(\"Please make a list again.\")\n",
        "\n",
        "    def cashless_withd(self, amount):\n",
        "        ans_user = input(\"Please scan QR code and confirm your phone number : \")\n",
        "        data = \"https://github.com/thanapatbo\"\n",
        "        qr = qrcode.QRCode(version =1,\n",
        "                           box_size = 10,\n",
        "                           border = 5)\n",
        "        qr.add_data(data)\n",
        "        qr.make(fit = True)\n",
        "        img = qr.make_image(fill_color = \"darkblue\",\n",
        "                            back_color = \"yellow\")\n",
        "        img.save(\"QR_trans.png\")\n",
        "        qr_result = Image.open(\"QR_trans.png\")\n",
        "        qr_result.show()\n",
        "        print(\"Collect your cash and receipt.\")"
      ],
      "metadata": {
        "id": "V9C7SsFrZliE"
      },
      "execution_count": 28,
      "outputs": []
    },
    {
      "cell_type": "code",
      "source": [
        "acc1 = ATM(\"thanapat\", \"KBANK\", \"BKK\", \"123456\", 1000)"
      ],
      "metadata": {
        "id": "NJSd7Nlyzs-H"
      },
      "execution_count": 10,
      "outputs": []
    },
    {
      "cell_type": "code",
      "source": [
        "acc1.deposit(1000)"
      ],
      "metadata": {
        "colab": {
          "base_uri": "https://localhost:8080/"
        },
        "id": "kWH5xPqo0Nu8",
        "outputId": "28db9030-6bcc-47d6-c54c-ee029abf0130"
      },
      "execution_count": null,
      "outputs": [
        {
          "output_type": "stream",
          "name": "stdout",
          "text": [
            "Do you want to deposit this account?\n",
            "Y/N : Y\n",
            "Please insert your cash into the doposi slot.\n",
            "Please comfirm the deposit : 1000.\n",
            "Y/N : Y\n",
            "Thank you, Please wait for receipt.\n"
          ]
        }
      ]
    },
    {
      "cell_type": "code",
      "source": [
        "acc1.balance"
      ],
      "metadata": {
        "colab": {
          "base_uri": "https://localhost:8080/"
        },
        "id": "BCRtGm8z0Vcx",
        "outputId": "60d6bd74-211c-4b4b-df86-c23a5328bd2a"
      },
      "execution_count": null,
      "outputs": [
        {
          "output_type": "execute_result",
          "data": {
            "text/plain": [
              "2000"
            ]
          },
          "metadata": {},
          "execution_count": 38
        }
      ]
    },
    {
      "cell_type": "code",
      "source": [
        "acc1.withdraw(500)"
      ],
      "metadata": {
        "id": "RS1SrgCE3PuK",
        "colab": {
          "base_uri": "https://localhost:8080/"
        },
        "outputId": "4042bc9e-979a-4f73-a80b-31fd0d16fdfc"
      },
      "execution_count": null,
      "outputs": [
        {
          "output_type": "stream",
          "name": "stdout",
          "text": [
            "Enter the amount of money you want to withdraw: 500\n",
            "Do you want to withdraw 500 Bath?\n",
            "Please review transaction and press Y to comfirm : Y\n",
            "Collect your cash and receipt.\n"
          ]
        }
      ]
    },
    {
      "cell_type": "code",
      "source": [
        "acc1.balance"
      ],
      "metadata": {
        "colab": {
          "base_uri": "https://localhost:8080/"
        },
        "id": "7CBz9xlF62A4",
        "outputId": "c10612f5-1373-4fc3-a5e1-c2fd12c47c20"
      },
      "execution_count": null,
      "outputs": [
        {
          "output_type": "execute_result",
          "data": {
            "text/plain": [
              "500"
            ]
          },
          "metadata": {},
          "execution_count": 7
        }
      ]
    },
    {
      "cell_type": "code",
      "source": [
        "acc1.cashless_withd(1000)"
      ],
      "metadata": {
        "id": "PSi1_aiz69oq",
        "colab": {
          "base_uri": "https://localhost:8080/"
        },
        "outputId": "123f0f7d-c418-40cf-e61e-276bc56f986e"
      },
      "execution_count": 29,
      "outputs": [
        {
          "output_type": "stream",
          "name": "stdout",
          "text": [
            "Please scan QR code and confirm your phone number : 12\n",
            "Collect your cash and receipt.\n"
          ]
        }
      ]
    },
    {
      "cell_type": "code",
      "source": [],
      "metadata": {
        "id": "VeARqsqXo1X8"
      },
      "execution_count": 12,
      "outputs": []
    },
    {
      "cell_type": "code",
      "source": [],
      "metadata": {
        "id": "MN_1-VBfwEEM"
      },
      "execution_count": null,
      "outputs": []
    }
  ]
}